{
 "cells": [
  {
   "cell_type": "code",
   "execution_count": 1,
   "metadata": {},
   "outputs": [
    {
     "name": "stdout",
     "output_type": "stream",
     "text": [
      "Here are our 27 creative salad dressing recipes:\n",
      "\n",
      " 1. Turmeric-Tahini Dressing\n",
      " 2. Lemon-Anchovy Vinaigrette\n",
      " 3. Green Sauce No.4\n",
      " 4. Creamy Lemon-Mustard Vinaigrette\n",
      " 5. Gribiche (Hard-Boiled Egg) Dressing\n",
      " 6. Peanut Dressing\n",
      " 7. Cherry Tomato Vinaigrette\n",
      " 8. Classic French Dressing\n",
      " 9. Easy Homemade Caesar Dressing\n",
      " 10. Soy-Seasame Dressing\n",
      " 11. Grilled Green Salad with Coffee Vinaigrette\n",
      " 11. Grilled Green Salad with Coffee Vinaigrette\n",
      " 12. Buttermilk Ranch Dressing\n",
      " 13. Herby Lime Dressing\n",
      " 14. Sesame-Miso Vinaigette\n",
      " 15. Charred Corn Husk Oil Dressing\n",
      " 16. Simone Shallot Vinaigrette\n",
      " 17. Canal House Green Goddess Dressing\n",
      " 18. Miso-Turmeric Dressing\n",
      " 19. Simplest Asian Dressing\n",
      " 20. Herb Dressing\n",
      " 21. Fresh Chive Vinaigrette\n",
      " 22. Creamy Herb Dressing\n",
      " 23. Citrus Vinaigrette\n",
      " 24. Cashew Caesar Dressing\n",
      " 25. Buttermilk Green Goddess Dressing\n",
      " 26. Miso, Carrot, and Sesame Dressing\n",
      " 27. Creamy Dijon Vinaigrette\n"
     ]
    }
   ],
   "source": [
    "#user interface\n",
    "recipe1 = '1. Turmeric-Tahini Dressing\\n'\n",
    "recipe2 = '2. Lemon-Anchovy Vinaigrette\\n'\n",
    "recipe3 = '3. Green Sauce No.4\\n'\n",
    "recipe4 = '4. Creamy Lemon-Mustard Vinaigrette\\n'\n",
    "recipe5 = '5. Gribiche (Hard-Boiled Egg) Dressing\\n'\n",
    "recipe6 = '6. Peanut Dressing\\n'\n",
    "recipe7 = '7. Cherry Tomato Vinaigrette\\n'\n",
    "recipe8 = '8. Classic French Dressing\\n'\n",
    "recipe9 = '9. Easy Homemade Caesar Dressing\\n'\n",
    "recipe10 = '10. Soy-Seasame Dressing\\n'\n",
    "recipe11 = '11. Grilled Green Salad with Coffee Vinaigrette\\n'\n",
    "recipe12 = '12. Buttermilk Ranch Dressing\\n'\n",
    "recipe13 = '13. Herby Lime Dressing\\n'\n",
    "recipe14 = '14. Sesame-Miso Vinaigette\\n'\n",
    "recipe15 = '15. Charred Corn Husk Oil Dressing\\n'\n",
    "recipe16 = '16. Simone Shallot Vinaigrette\\n'\n",
    "recipe17 = '17. Canal House Green Goddess Dressing\\n'\n",
    "recipe18 = '18. Miso-Turmeric Dressing\\n'\n",
    "recipe19 = '19. Simplest Asian Dressing\\n'\n",
    "recipe20 = '20. Herb Dressing\\n'\n",
    "recipe21 = '21. Fresh Chive Vinaigrette\\n'\n",
    "recipe22 = '22. Creamy Herb Dressing\\n'\n",
    "recipe23 = '23. Citrus Vinaigrette\\n'\n",
    "recipe24 = '24. Cashew Caesar Dressing\\n'\n",
    "recipe25 = '25. Buttermilk Green Goddess Dressing\\n'\n",
    "recipe26 = '26. Miso, Carrot, and Sesame Dressing\\n'\n",
    "recipe27 = '27. Creamy Dijon Vinaigrette'\n",
    "print('Here are our 27 creative salad dressing recipes:\\n\\n', recipe1, recipe2, recipe3, recipe4, recipe5, recipe6, recipe7, recipe8, recipe9, recipe10, recipe11,\n",
    "     recipe11, recipe12, recipe13, recipe14, recipe15, recipe16, recipe17, recipe18, recipe19, recipe20, recipe21, recipe22, recipe23, recipe24, recipe25,\n",
    "     recipe26, recipe27)"
   ]
  },
  {
   "cell_type": "code",
   "execution_count": 3,
   "metadata": {},
   "outputs": [
    {
     "name": "stdout",
     "output_type": "stream",
     "text": [
      "Please choose your recipe number: (once a time)\n",
      "\n",
      "1\n",
      "1\n"
     ]
    }
   ],
   "source": [
    "#access to recipes, catch errors if entering invalid numbers.\n",
    "\n",
    "recipes_number = [n for n in range(1, 28)]\n",
    "recipes_input = input('Please choose your recipe number: (once a time)\\n\\n')\n",
    "try:\n",
    "    int(recipes_input) in recipes_number\n",
    "except (TypeError, ValueError, IndexError):\n",
    "    print('Your chosen recipe does not exist.')\n",
    "    recipes_input = input('Please enter the recipe number again:')\n",
    "else:\n",
    "    print(int(recipes_input))\n",
    "\n",
    "# for i in range(len(recipes_number)):\n",
    "#     if recipes_number[i] == int(recipes_input):\n",
    "#         recipes \n",
    "#     int(recipes_input) == recipes"
   ]
  },
  {
   "cell_type": "code",
   "execution_count": null,
   "metadata": {},
   "outputs": [],
   "source": []
  }
 ],
 "metadata": {
  "kernelspec": {
   "display_name": "Python 3",
   "language": "python",
   "name": "python3"
  },
  "language_info": {
   "codemirror_mode": {
    "name": "ipython",
    "version": 3
   },
   "file_extension": ".py",
   "mimetype": "text/x-python",
   "name": "python",
   "nbconvert_exporter": "python",
   "pygments_lexer": "ipython3",
   "version": "3.7.3"
  }
 },
 "nbformat": 4,
 "nbformat_minor": 2
}
