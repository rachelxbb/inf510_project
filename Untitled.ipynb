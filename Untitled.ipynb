{
 "cells": [
  {
   "cell_type": "code",
   "execution_count": 1,
   "metadata": {},
   "outputs": [],
   "source": [
    "import requests\n",
    "from bs4 import BeautifulSoup\n",
    "import json\n",
    "from pandas import Series,DataFrame\n",
    "import pandas as pd\n",
    "import sys\n",
    "import argparse\n",
    "import numpy as np"
   ]
  },
  {
   "cell_type": "code",
   "execution_count": 2,
   "metadata": {},
   "outputs": [],
   "source": [
    "def scrap_webpages(url):\n",
    "    r = requests.get(url)\n",
    "    soup = BeautifulSoup(r.content, 'lxml')\n",
    "    \n",
    "    return soup"
   ]
  },
  {
   "cell_type": "code",
   "execution_count": 3,
   "metadata": {},
   "outputs": [],
   "source": [
    "def user_input():\n",
    "    recipes_number = [n for n in range(1, 28)]\n",
    "    recipe1 = '1. Turmeric-Tahini Dressing\\n'\n",
    "    recipe2 = '2. Lemon-Anchovy Vinaigrette\\n'\n",
    "    recipe3 = '3. Green Sauce No.4\\n'\n",
    "    recipe4 = '4. Creamy Lemon-Mustard Vinaigrette\\n'\n",
    "    recipe5 = '5. Gribiche (Hard-Boiled Egg) Dressing',\n",
    "    recipe6 = '6. Peanut Dressing\\n'\n",
    "    recipe7 = '7. Easy Homemade Caesar Dressing\\n'\n",
    "    recipe8 = '8. Soy-Seasame Dressing\\n'\n",
    "    recipe9 = '9. Grilled Green Salad with Coffee Vinaigrette\\n'\n",
    "    recipe10 = '10. Buttermilk Ranch Dressing\\n'\n",
    "    recipe11 = '11. Herby Lime Dressing\\n'\n",
    "    recipe12 = '12. Sesame-Miso Vinaigette\\n'\n",
    "    recipe13 = '13. Charred Corn Husk Oil Dressing\\n'\n",
    "    recipe14 = '14. Canal House Green Goddess Dressing\\n'\n",
    "    recipe15 = '15. Miso-Turmeric Dressing\\n'\n",
    "    recipe16 = '16. Simplest Asian Dressing\\n'\n",
    "    recipe17 = '17. Fresh Chive Vinaigrette\\n'\n",
    "    recipe18 = '18. Creamy Herb Dressing\\n'\n",
    "    recipe19 = '19. Citrus Vinaigrette\\n'\n",
    "    recipe20 = '20. Cashew Caesar Dressing\\n'\n",
    "    recipe21 = '21. Buttermilk Green Goddess Dressing\\n'\n",
    "    recipe22 = '22. Miso, Carrot, and Sesame Dressing\\n'\n",
    "    recipe23 = '23. Creamy Dijon Vinaigrette'\n",
    "\n",
    "    print('Here are our 23 creative salad dressing recipes:\\n\\n', recipe1, recipe2, recipe3, recipe4, recipe5, recipe6, recipe7, recipe8, recipe9, recipe10,\n",
    "     recipe11, recipe12, recipe13, recipe14, recipe15, recipe16, recipe17, recipe18, recipe19, recipe20, recipe21, recipe22, recipe23)\n",
    "    recipes_input = input('Please choose your recipe number: (once a time) ')\n",
    "    try:\n",
    "        int(recipes_input) in recipes_number\n",
    "    except (TypeError, ValueError, IndexError):\n",
    "        print('Your chosen recipe does not exist.')\n",
    "        recipes_input = input('Please enter the recipe number again: ')\n",
    "\n",
    "    else:\n",
    "        recipes_input = str(int(recipes_input) - 1)\n",
    "        age_input = int(input('\\nPlease enter your age: '))\n",
    "        if age_input < 0:\n",
    "            age_input = int(input('Please enter valid number: '))\n",
    "        gender_input = input('\\nPlease choose your gender (Female or Male): ')\n",
    "        if gender_input != ('Female' or 'Male'):\n",
    "            gender_input = input('Please enter valid gender: ')\n",
    "\n",
    "        return (recipes_input, age_input, gender_input)"
   ]
  },
  {
   "cell_type": "code",
   "execution_count": 4,
   "metadata": {},
   "outputs": [],
   "source": [
    "def recipes_scrap():\n",
    "    recipe_content = scrap_webpages('https://www.bonappetit.com/recipes/slideshow/salad-dressings-summer')\n",
    "    main_table = recipe_content.find_all('a', {\"aria-label\": \"View Recipe\"})\n",
    "\n",
    "    link_list = []\n",
    "    for i in range(len(main_table)):\n",
    "        link_list.append(main_table[i].get('href'))\n",
    "    return link_list"
   ]
  },
  {
   "cell_type": "code",
   "execution_count": 5,
   "metadata": {},
   "outputs": [],
   "source": [
    "def recipe1():\n",
    "    recipe = scrap_webpages(recipes_scrap()[0])\n",
    "    ingr1 = [recipe.select(\"[data-reactid='165']\")[0].text, recipe.select(\"[data-reactid='167']\")[0].text, \n",
    "    recipe.select(\"[data-reactid='169']\")[0].text, recipe.select(\"[data-reactid='171']\")[0].text,\n",
    "    recipe.select(\"[data-reactid='173']\")[0].text]\n",
    "    ingr1_l = str(ingr1)\n",
    "\n",
    "    return ingr1_l"
   ]
  },
  {
   "cell_type": "code",
   "execution_count": 6,
   "metadata": {},
   "outputs": [],
   "source": [
    "def recipe2():\n",
    "    recipe = scrap_webpages(recipes_scrap()[1])\n",
    "    ingr2 = [recipe.select(\"[data-reactid='165']\")[0].text, recipe.select(\"[data-reactid='167']\")[0].text, \n",
    "    recipe.select(\"[data-reactid='169']\")[0].text, recipe.select(\"[data-reactid='171']\")[0].text,\n",
    "    recipe.select(\"[data-reactid='173']\")[0].text]\n",
    "    ingr2_l = str(ingr2)\n",
    "    \n",
    "    return ingr2_l"
   ]
  },
  {
   "cell_type": "code",
   "execution_count": 7,
   "metadata": {},
   "outputs": [],
   "source": [
    "def recipe3():\n",
    "    recipe = scrap_webpages(recipes_scrap()[2])\n",
    "    ingr3 = [recipe.select(\"[data-reactid='163']\")[0].text, recipe.select(\"[data-reactid='164']\")[0].text, \n",
    "    recipe.select(\"[data-reactid='166']\")[0].text, recipe.select(\"[data-reactid='168']\")[0].text, \n",
    "    recipe.select(\"[data-reactid='170']\")[0].text, recipe.select(\"[data-reactid='172']\")[0].text,\n",
    "    recipe.select(\"[data-reactid='174']\")[0].text, recipe.select(\"[data-reactid='176']\")[0].text,\n",
    "    recipe.select(\"[data-reactid='178']\")[0].text, recipe.select(\"[data-reactid='180']\")[0].text,\n",
    "    recipe.select(\"[data-reactid='182']\")[0].text, recipe.select(\"[data-reactid='184']\")[0].text]\n",
    "    ingr3_l = str(ingr3)\n",
    "\n",
    "    return ingr3_l"
   ]
  },
  {
   "cell_type": "code",
   "execution_count": 8,
   "metadata": {},
   "outputs": [],
   "source": [
    "def recipe4():\n",
    "    recipe = scrap_webpages(recipes_scrap()[3])\n",
    "    ingr4 = [recipe.select(\"[data-reactid='163']\")[0].text, recipe.select(\"[data-reactid='164']\")[0].text, \n",
    "    recipe.select(\"[data-reactid='166']\")[0].text, recipe.select(\"[data-reactid='168']\")[0].text, \n",
    "    recipe.select(\"[data-reactid='170']\")[0].text, recipe.select(\"[data-reactid='172']\")[0].text]\n",
    "    ingr4_l = str(ingr4)\n",
    "\n",
    "    return ingr4_l"
   ]
  },
  {
   "cell_type": "code",
   "execution_count": 9,
   "metadata": {},
   "outputs": [],
   "source": [
    "def recipe5():\n",
    "    recipe = scrap_webpages(recipes_scrap()[4])\n",
    "    ingr5 = [recipe.select(\"[data-reactid='163']\")[0].text, recipe.select(\"[data-reactid='164']\")[0].text, \n",
    "    recipe.select(\"[data-reactid='166']\")[0].text, recipe.select(\"[data-reactid='168']\")[0].text, \n",
    "    recipe.select(\"[data-reactid='170']\")[0].text, recipe.select(\"[data-reactid='172']\")[0].text,\n",
    "    recipe.select(\"[data-reactid='174']\")[0].text, recipe.select(\"[data-reactid='176']\")[0].text]\n",
    "    ingr5_l = str(ingr5)\n",
    "\n",
    "    return ingr5_l"
   ]
  },
  {
   "cell_type": "code",
   "execution_count": 10,
   "metadata": {},
   "outputs": [],
   "source": [
    "def recipe6():\n",
    "    recipe = scrap_webpages(recipes_scrap()[5])\n",
    "    ingr6 = [recipe.select(\"[data-reactid='163']\")[0].text, recipe.select(\"[data-reactid='164']\")[0].text, \n",
    "    recipe.select(\"[data-reactid='166']\")[0].text, recipe.select(\"[data-reactid='168']\")[0].text, \n",
    "    recipe.select(\"[data-reactid='170']\")[0].text]\n",
    "    ingr6_l = str(ingr6)\n",
    "\n",
    "    return ingr6_l"
   ]
  },
  {
   "cell_type": "code",
   "execution_count": 11,
   "metadata": {},
   "outputs": [],
   "source": [
    "def recipe7():\n",
    "    recipe = scrap_webpages(recipes_scrap()[6])\n",
    "    ingr7 = [recipe.select(\"[data-reactid='163']\")[0].text, recipe.select(\"[data-reactid='164']\")[0].text, \n",
    "    recipe.select(\"[data-reactid='166']\")[0].text, recipe.select(\"[data-reactid='168']\")[0].text, \n",
    "    recipe.select(\"[data-reactid='170']\")[0].text, recipe.select(\"[data-reactid='172']\")[0].text]\n",
    "    ingr7_l = str(ingr7)\n",
    "\n",
    "    return ingr7_l"
   ]
  },
  {
   "cell_type": "code",
   "execution_count": 12,
   "metadata": {},
   "outputs": [],
   "source": [
    "def recipe8():\n",
    "    recipe = scrap_webpages(recipes_scrap()[7])\n",
    "    ingr8 = [recipe.select(\"[data-reactid='157']\")[0].text, recipe.select(\"[data-reactid='159']\")[0].text, \n",
    "    recipe.select(\"[data-reactid='161']\")[0].text, recipe.select(\"[data-reactid='163']\")[0].text, \n",
    "    recipe.select(\"[data-reactid='165']\")[0].text, recipe.select(\"[data-reactid='167']\")[0].text]\n",
    "    ingr8_l = str(ingr8)\n",
    "\n",
    "    return ingr8_l"
   ]
  },
  {
   "cell_type": "code",
   "execution_count": 13,
   "metadata": {},
   "outputs": [],
   "source": [
    "def recipe9():\n",
    "    recipe = scrap_webpages(recipes_scrap()[8])\n",
    "    ingr9 = [recipe.select(\"[data-reactid='163']\")[0].text, recipe.select(\"[data-reactid='164']\")[0].text, \n",
    "    recipe.select(\"[data-reactid='166']\")[0].text, recipe.select(\"[data-reactid='168']\")[0].text, \n",
    "    recipe.select(\"[data-reactid='170']\")[0].text, recipe.select(\"[data-reactid='172']\")[0].text,\n",
    "    recipe.select(\"[data-reactid='174']\")[0].text, recipe.select(\"[data-reactid='176']\")[0].text]\n",
    "    ingr9_l = str(ingr9)\n",
    "\n",
    "    return ingr9_l"
   ]
  },
  {
   "cell_type": "code",
   "execution_count": 14,
   "metadata": {},
   "outputs": [],
   "source": [
    "def recipe10():\n",
    "    recipe = scrap_webpages(recipes_scrap()[9])\n",
    "    ingr10 = [recipe.select(\"[data-reactid='156']\")[0].text, recipe.select(\"[data-reactid='158']\")[0].text, \n",
    "    recipe.select(\"[data-reactid='160']\")[0].text, recipe.select(\"[data-reactid='162']\")[0].text, \n",
    "    recipe.select(\"[data-reactid='164']\")[0].text, recipe.select(\"[data-reactid='166']\")[0].text,\n",
    "    recipe.select(\"[data-reactid='168']\")[0].text, recipe.select(\"[data-reactid='170']\")[0].text]\n",
    "    ingr10_l = str(ingr10)\n",
    "\n",
    "    return ingr10_l"
   ]
  },
  {
   "cell_type": "code",
   "execution_count": 15,
   "metadata": {},
   "outputs": [],
   "source": [
    "def recipe11():\n",
    "    recipe = scrap_webpages(recipes_scrap()[10])\n",
    "    ingr11 = [recipe.select(\"[data-reactid='163']\")[0].text, recipe.select(\"[data-reactid='164']\")[0].text, \n",
    "    recipe.select(\"[data-reactid='166']\")[0].text, recipe.select(\"[data-reactid='168']\")[0].text, \n",
    "    recipe.select(\"[data-reactid='170']\")[0].text, recipe.select(\"[data-reactid='172']\")[0].text,\n",
    "    recipe.select(\"[data-reactid='174']\")[0].text, recipe.select(\"[data-reactid='176']\")[0].text,\n",
    "    recipe.select(\"[data-reactid='178']\")[0].text, recipe.select(\"[data-reactid='180']\")[0].text,\n",
    "    recipe.select(\"[data-reactid='182']\")[0].text, recipe.select(\"[data-reactid='184']\")[0].text,\n",
    "    recipe.select(\"[data-reactid='186']\")[0].text, recipe.select(\"[data-reactid='188']\")[0].text,\n",
    "    recipe.select(\"[data-reactid='190']\")[0].text]\n",
    "    ingr11_l = str(ingr11)\n",
    "\n",
    "    return ingr11_l"
   ]
  },
  {
   "cell_type": "code",
   "execution_count": 16,
   "metadata": {},
   "outputs": [],
   "source": [
    "def recipe12():\n",
    "    recipe = scrap_webpages(recipes_scrap()[11])\n",
    "    ingr12 = [recipe.select(\"[data-reactid='163']\")[0].text, recipe.select(\"[data-reactid='164']\")[0].text, \n",
    "    recipe.select(\"[data-reactid='166']\")[0].text, recipe.select(\"[data-reactid='168']\")[0].text, \n",
    "    recipe.select(\"[data-reactid='170']\")[0].text, recipe.select(\"[data-reactid='172']\")[0].text,\n",
    "    recipe.select(\"[data-reactid='174']\")[0].text, recipe.select(\"[data-reactid='176']\")[0].text,\n",
    "    recipe.select(\"[data-reactid='178']\")[0].text, recipe.select(\"[data-reactid='180']\")[0].text,\n",
    "    recipe.select(\"[data-reactid='182']\")[0].text]\n",
    "    ingr12_l = str(ingr12)\n",
    "\n",
    "    return ingr12_l"
   ]
  },
  {
   "cell_type": "code",
   "execution_count": 17,
   "metadata": {},
   "outputs": [],
   "source": [
    "def recipe13():\n",
    "    recipe = scrap_webpages(recipes_scrap()[12])\n",
    "    ingr13 = [recipe.select(\"[data-reactid='163']\")[0].text, recipe.select(\"[data-reactid='164']\")[0].text, \n",
    "    recipe.select(\"[data-reactid='166']\")[0].text, recipe.select(\"[data-reactid='168']\")[0].text, \n",
    "    recipe.select(\"[data-reactid='170']\")[0].text, recipe.select(\"[data-reactid='172']\")[0].text,\n",
    "    recipe.select(\"[data-reactid='174']\")[0].text, recipe.select(\"[data-reactid='176']\")[0].text,\n",
    "    recipe.select(\"[data-reactid='178']\")[0].text]\n",
    "    ingr13_l = str(ingr13)\n",
    "\n",
    "    return ingr13_l"
   ]
  },
  {
   "cell_type": "code",
   "execution_count": 18,
   "metadata": {},
   "outputs": [],
   "source": [
    "def recipe14():\n",
    "    recipe = scrap_webpages(recipes_scrap()[13])\n",
    "    ingr14 = [recipe.select(\"[data-reactid='163']\")[0].text, recipe.select(\"[data-reactid='164']\")[0].text, \n",
    "    recipe.select(\"[data-reactid='166']\")[0].text, recipe.select(\"[data-reactid='168']\")[0].text, \n",
    "    recipe.select(\"[data-reactid='170']\")[0].text, recipe.select(\"[data-reactid='172']\")[0].text,\n",
    "    recipe.select(\"[data-reactid='174']\")[0].text, recipe.select(\"[data-reactid='176']\")[0].text,\n",
    "    recipe.select(\"[data-reactid='178']\")[0].text]\n",
    "    ingr14_l = str(ingr14)\n",
    "\n",
    "    return ingr14_l"
   ]
  },
  {
   "cell_type": "code",
   "execution_count": 19,
   "metadata": {},
   "outputs": [],
   "source": [
    "def recipe15():\n",
    "    recipe = scrap_webpages(recipes_scrap()[14])\n",
    "    ingr15 = [recipe.select(\"[data-reactid='161']\")[0].text, recipe.select(\"[data-reactid='163']\")[0].text, \n",
    "    recipe.select(\"[data-reactid='165']\")[0].text, recipe.select(\"[data-reactid='167']\")[0].text, \n",
    "    recipe.select(\"[data-reactid='169']\")[0].text, recipe.select(\"[data-reactid='171']\")[0].text,\n",
    "    recipe.select(\"[data-reactid='173']\")[0].text]\n",
    "    ingr15_l = str(ingr15)\n",
    "\n",
    "    return ingr15_l"
   ]
  },
  {
   "cell_type": "code",
   "execution_count": 20,
   "metadata": {},
   "outputs": [],
   "source": [
    "def recipe16():\n",
    "    recipe = scrap_webpages(recipes_scrap()[15])\n",
    "    ingr16 = [recipe.select(\"[data-reactid='163']\")[0].text, recipe.select(\"[data-reactid='164']\")[0].text, \n",
    "    recipe.select(\"[data-reactid='166']\")[0].text, recipe.select(\"[data-reactid='168']\")[0].text, \n",
    "    recipe.select(\"[data-reactid='170']\")[0].text, recipe.select(\"[data-reactid='172']\")[0].text]\n",
    "    ingr16_l = str(ingr16)\n",
    "\n",
    "    return ingr16_l"
   ]
  },
  {
   "cell_type": "code",
   "execution_count": 21,
   "metadata": {},
   "outputs": [],
   "source": [
    "def recipe17():\n",
    "    recipe = scrap_webpages(recipes_scrap()[16])\n",
    "    ingr17 = [recipe.select(\"[data-reactid='164']\")[0].text, recipe.select(\"[data-reactid='166']\")[0].text, \n",
    "    recipe.select(\"[data-reactid='168']\")[0].text, recipe.select(\"[data-reactid='170']\")[0].text, \n",
    "    recipe.select(\"[data-reactid='172']\")[0].text, recipe.select(\"[data-reactid='174']\")[0].text,\n",
    "    recipe.select(\"[data-reactid='176']\")[0].text, recipe.select(\"[data-reactid='178']\")[0].text,\n",
    "    recipe.select(\"[data-reactid='180']\")[0].text]\n",
    "    ingr17_l = str(ingr17)\n",
    "\n",
    "    return ingr17_l"
   ]
  },
  {
   "cell_type": "code",
   "execution_count": 22,
   "metadata": {},
   "outputs": [],
   "source": [
    "def recipe18():\n",
    "    recipe = scrap_webpages(recipes_scrap()[17])\n",
    "    ingr18 = [recipe.select(\"[data-reactid='163']\")[0].text, recipe.select(\"[data-reactid='164']\")[0].text, \n",
    "    recipe.select(\"[data-reactid='166']\")[0].text, recipe.select(\"[data-reactid='168']\")[0].text, \n",
    "    recipe.select(\"[data-reactid='170']\")[0].text, recipe.select(\"[data-reactid='172']\")[0].text,\n",
    "    recipe.select(\"[data-reactid='174']\")[0].text, recipe.select(\"[data-reactid='176']\")[0].text]\n",
    "    ingr18_l = str(ingr18)\n",
    "\n",
    "    return ingr18_l"
   ]
  },
  {
   "cell_type": "code",
   "execution_count": 23,
   "metadata": {},
   "outputs": [],
   "source": [
    "def recipe19():\n",
    "    recipe = scrap_webpages(recipes_scrap()[18])\n",
    "    ingr19 = [recipe.select(\"[data-reactid='164']\")[0].text, recipe.select(\"[data-reactid='166']\")[0].text, \n",
    "    recipe.select(\"[data-reactid='168']\")[0].text, recipe.select(\"[data-reactid='170']\")[0].text, \n",
    "    recipe.select(\"[data-reactid='172']\")[0].text, recipe.select(\"[data-reactid='174']\")[0].text]\n",
    "    ingr19_l = str(ingr19)\n",
    "\n",
    "    return ingr19_l"
   ]
  },
  {
   "cell_type": "code",
   "execution_count": 24,
   "metadata": {},
   "outputs": [],
   "source": [
    "def recipe20():\n",
    "    recipe = scrap_webpages(recipes_scrap()[19])\n",
    "    ingr20 = [recipe.select(\"[data-reactid='161']\")[0].text, recipe.select(\"[data-reactid='163']\")[0].text, \n",
    "    recipe.select(\"[data-reactid='165']\")[0].text, recipe.select(\"[data-reactid='167']\")[0].text, \n",
    "    recipe.select(\"[data-reactid='169']\")[0].text, recipe.select(\"[data-reactid='171']\")[0].text,\n",
    "    recipe.select(\"[data-reactid='173']\")[0].text]\n",
    "    ingr20_l = str(ingr20)\n",
    "\n",
    "    return ingr20_l"
   ]
  },
  {
   "cell_type": "code",
   "execution_count": 25,
   "metadata": {},
   "outputs": [],
   "source": [
    "def recipe21():\n",
    "    recipe = scrap_webpages(recipes_scrap()[20])\n",
    "    ingr21 = [recipe.select(\"[data-reactid='164']\")[0].text, recipe.select(\"[data-reactid='166']\")[0].text, \n",
    "    recipe.select(\"[data-reactid='168']\")[0].text, recipe.select(\"[data-reactid='170']\")[0].text, \n",
    "    recipe.select(\"[data-reactid='172']\")[0].text, recipe.select(\"[data-reactid='174']\")[0].text,\n",
    "    recipe.select(\"[data-reactid='176']\")[0].text]\n",
    "    ingr21_l = str(ingr21)\n",
    "\n",
    "    return ingr21_l"
   ]
  },
  {
   "cell_type": "code",
   "execution_count": 26,
   "metadata": {},
   "outputs": [],
   "source": [
    "def recipe22():\n",
    "    recipe = scrap_webpages(recipes_scrap()[21])\n",
    "    ingr22 = [recipe.select(\"[data-reactid='163']\")[0].text, recipe.select(\"[data-reactid='164']\")[0].text, \n",
    "    recipe.select(\"[data-reactid='166']\")[0].text, recipe.select(\"[data-reactid='168']\")[0].text, \n",
    "    recipe.select(\"[data-reactid='170']\")[0].text, recipe.select(\"[data-reactid='172']\")[0].text,\n",
    "    recipe.select(\"[data-reactid='174']\")[0].text]\n",
    "    ingr22_l = str(ingr22)\n",
    "\n",
    "    return ingr22_l"
   ]
  },
  {
   "cell_type": "code",
   "execution_count": 28,
   "metadata": {},
   "outputs": [],
   "source": [
    "def recipe23():\n",
    "    recipe = scrap_webpages(recipes_scrap()[22])\n",
    "    ingr23 = [recipe.select(\"[data-reactid='163']\")[0].text, recipe.select(\"[data-reactid='164']\")[0].text, \n",
    "    recipe.select(\"[data-reactid='166']\")[0].text, recipe.select(\"[data-reactid='168']\")[0].text, \n",
    "    recipe.select(\"[data-reactid='170']\")[0].text, recipe.select(\"[data-reactid='172']\")[0].text,\n",
    "    recipe.select(\"[data-reactid='174']\")[0].text]\n",
    "    ingr23_l = str(ingr23)\n",
    "    \n",
    "    return ingr23_l"
   ]
  },
  {
   "cell_type": "code",
   "execution_count": 29,
   "metadata": {},
   "outputs": [],
   "source": [
    "def recipe24():\n",
    "    recipe = scrap_webpages(recipes_scrap()[23])\n",
    "    ingr24 = [recipe.select(\"[data-reactid='163']\")[0].text, recipe.select(\"[data-reactid='164']\")[0].text, \n",
    "    recipe.select(\"[data-reactid='166']\")[0].text, recipe.select(\"[data-reactid='168']\")[0].text, \n",
    "    recipe.select(\"[data-reactid='170']\")[0].text, recipe.select(\"[data-reactid='172']\")[0].text,\n",
    "    recipe.select(\"[data-reactid='174']\")[0].text, recipe.select(\"[data-reactid='176']\")[0].text]\n",
    "    ingr24_l = str(ingr24)\n",
    "\n",
    "    return ingr24_l"
   ]
  },
  {
   "cell_type": "code",
   "execution_count": 30,
   "metadata": {},
   "outputs": [],
   "source": [
    "def recipe25():\n",
    "    recipe = scrap_webpages(recipes_scrap()[24])\n",
    "    ingr25 = [recipe.select(\"[data-reactid='163']\")[0].text, recipe.select(\"[data-reactid='164']\")[0].text, \n",
    "    recipe.select(\"[data-reactid='166']\")[0].text, recipe.select(\"[data-reactid='168']\")[0].text, \n",
    "    recipe.select(\"[data-reactid='170']\")[0].text, recipe.select(\"[data-reactid='172']\")[0].text,\n",
    "    recipe.select(\"[data-reactid='174']\")[0].text, recipe.select(\"[data-reactid='176']\")[0].text,\n",
    "    recipe.select(\"[data-reactid='178']\")[0].text]\n",
    "    ingr25_l = str(ingr25)\n",
    "\n",
    "    return ingr25_l"
   ]
  },
  {
   "cell_type": "code",
   "execution_count": 31,
   "metadata": {},
   "outputs": [],
   "source": [
    "def recipe26():\n",
    "    recipe = scrap_webpages(recipes_scrap()[25])\n",
    "    ingr26 = [recipe.select(\"[data-reactid='163']\")[0].text, recipe.select(\"[data-reactid='164']\")[0].text, \n",
    "    recipe.select(\"[data-reactid='166']\")[0].text, recipe.select(\"[data-reactid='168']\")[0].text, \n",
    "    recipe.select(\"[data-reactid='170']\")[0].text, recipe.select(\"[data-reactid='172']\")[0].text,\n",
    "    recipe.select(\"[data-reactid='174']\")[0].text, recipe.select(\"[data-reactid='176']\")[0].text]\n",
    "    ingr26_l = str(ingr26)\n",
    "\n",
    "    return ingr26_l"
   ]
  },
  {
   "cell_type": "code",
   "execution_count": 32,
   "metadata": {},
   "outputs": [],
   "source": [
    "def recipe27():\n",
    "    recipe = scrap_webpages(recipes_scrap()[26])\n",
    "    content = recipe.select(\"[data-reactid='163']\")[0].text\n",
    "    temp_content = content.split(' ')\n",
    "    temp_content\n",
    "    temp_ingr = []\n",
    "    remove_list = ['a', 'Pulse', 'and', 'With', 'motor', 'running', 'slowly', 'add', 'then',\n",
    "                   'Season', 'to', 'taste', 'with', 'blender', 'in', 'to', 'combine.']\n",
    "    for word in temp_content:\n",
    "        if word not in remove_list:\n",
    "            temp_ingr.append(word)\n",
    "        else:\n",
    "            continue\n",
    "\n",
    "    ingr = ' '.join(temp_ingr)\n",
    "    temp_ingr27 = ingr.split(', ')\n",
    "    temp_ingr27.append(temp_ingr27[-1][:-35])\n",
    "    temp_ingr27.append(temp_ingr27[-2][-33:-1])\n",
    "    temp_ingr27.pop(-3)\n",
    "\n",
    "    ingr27 = temp_ingr27\n",
    "    ingr27_l = str(ingr27)\n",
    "\n",
    "    return ingr27_l"
   ]
  },
  {
   "cell_type": "code",
   "execution_count": 33,
   "metadata": {},
   "outputs": [],
   "source": [
    "def ingredient_list():\n",
    "    ingredient_list = [recipe1(), recipe2(), recipe3(), recipe4(), recipe5(), recipe6(), \n",
    "                       recipe7(), recipe8(), recipe9(), recipe10(), recipe11(), recipe12(), \n",
    "                       recipe13(), recipe14(), recipe15(), recipe16(), recipe17(), recipe18(), \n",
    "                       recipe19(), recipe20(), recipe21(), recipe22(), recipe23(), recipe24(), \n",
    "                       recipe25(), recipe26(), recipe27()]\n",
    "    return ingredient_list"
   ]
  },
  {
   "cell_type": "code",
   "execution_count": 95,
   "metadata": {},
   "outputs": [],
   "source": [
    "def translate_recipe():\n",
    "    i1 = ingredient_list()\n",
    "    r_list = []\n",
    "    i_list = []\n",
    "    cal_list = []\n",
    "    recipe_to_nutri = {'recipes': 0, 'ingredients': 0, 'calories': 0}\n",
    "    \n",
    "    recipes_list = ['Turmeric-Tahini Dressing', 'Lemon-Anchovy Vinaigrette', \n",
    "                'Green Sauce No.4', 'Creamy Lemon-Mustard Vinaigrette', \n",
    "                'Gribiche (Hard-Boiled Egg) Dressing', 'Peanut Dressing', \n",
    "                'Cherry Tomato Vinaigrette', 'Classic French Dressing', \n",
    "                'Easy Homemade Caesar Dressing', 'Soy-Seasame Dressing', \n",
    "                'Grilled Green Salad with Coffee Vinaigrette', 'Buttermilk Ranch Dressing', \n",
    "                'Herby Lime Dressing', 'Sesame-Miso Vinaigette', 'Charred Corn Husk Oil Dressing', \n",
    "                'Simone Shallot Vinaigrette', 'Canal House Green Goddess Dressing', \n",
    "                'Miso-Turmeric Dressing', 'Simplest Asian Dressing', 'Herb Dressing', \n",
    "                'Fresh Chive Vinaigrette', 'Creamy Herb Dressing', 'Citrus Vinaigrette', \n",
    "                'Cashew Caesar Dressing', 'Buttermilk Green Goddess Dressing', \n",
    "                'Miso, Carrot, and Sesame Dressing', 'Creamy Dijon Vinaigrette']\n",
    "    for i in range(len(i1)):\n",
    "        recipe_to_nutri_con = {\n",
    "            'title': recipes_list[i],\n",
    "            'ingr': eval(i1[i])\n",
    "        }\n",
    "        recipe = json.dumps(recipe_to_nutri_con)\n",
    "\n",
    "        url = \"https://api.edamam.com/api/nutrition-details?app_id=b7132d5d&app_key=040fb7ac1136156809d1ee31de9b69c7\"\n",
    "        headers = {'content-type': 'application/json'}\n",
    "        r = requests.post(url, headers = headers, data = recipe)\n",
    "\n",
    "    \n",
    "        if \"error\" in r.text:\n",
    "            continue\n",
    "#             cal_per_ser = 0\n",
    "        else:\n",
    "            stat = r.text\n",
    "            ser = stat.split('  ')[2].strip(',\\n')\n",
    "            cal = stat.split('  ')[3].strip(',\\n')\n",
    "            ind_ser = ser.find(':')+2\n",
    "            ind_cal = cal.find(':')+2\n",
    "            ser_number = eval(ser[ind_ser:])\n",
    "            cal_number = eval(cal[ind_cal:])\n",
    "            cal_per_ser = cal_number /ser_number\n",
    "            cal_list.append(cal_per_ser)\n",
    "            i_list.append(i1[i])\n",
    "            r_list.append(recipes_list[i])\n",
    "        \n",
    "    recipe_to_nutri['recipes'] = r_list\n",
    "    recipe_to_nutri['ingredients'] = i_list\n",
    "    recipe_to_nutri['calories'] = cal_list\n",
    "    return recipe_to_nutri"
   ]
  },
  {
   "cell_type": "code",
   "execution_count": 96,
   "metadata": {},
   "outputs": [
    {
     "data": {
      "text/plain": [
       "{'recipes': ['Turmeric-Tahini Dressing',\n",
       "  'Lemon-Anchovy Vinaigrette',\n",
       "  'Green Sauce No.4',\n",
       "  'Creamy Lemon-Mustard Vinaigrette',\n",
       "  'Gribiche (Hard-Boiled Egg) Dressing',\n",
       "  'Peanut Dressing',\n",
       "  'Easy Homemade Caesar Dressing',\n",
       "  'Soy-Seasame Dressing',\n",
       "  'Grilled Green Salad with Coffee Vinaigrette',\n",
       "  'Buttermilk Ranch Dressing',\n",
       "  'Herby Lime Dressing',\n",
       "  'Sesame-Miso Vinaigette',\n",
       "  'Charred Corn Husk Oil Dressing',\n",
       "  'Canal House Green Goddess Dressing',\n",
       "  'Miso-Turmeric Dressing',\n",
       "  'Simplest Asian Dressing',\n",
       "  'Fresh Chive Vinaigrette',\n",
       "  'Creamy Herb Dressing',\n",
       "  'Citrus Vinaigrette',\n",
       "  'Cashew Caesar Dressing',\n",
       "  'Buttermilk Green Goddess Dressing',\n",
       "  'Miso, Carrot, and Sesame Dressing',\n",
       "  'Creamy Dijon Vinaigrette'],\n",
       " 'ingredients': [\"['3 tablespoons fresh lemon juice', '2 tablespoons olive oil', '½ teaspoon ground turmeric', '¼ teaspoon cayenne pepper', 'Kosher salt and freshly ground black pepper']\",\n",
       "  \"['2 lemons', '4 anchovy fillets packed in oil, drained, finely chopped', '½ cup olive oil', '¼ teaspoon crushed red pepper flakes', 'Kosher salt and freshly ground black pepper']\",\n",
       "  \"['3 tablespoons white miso', '3 tablespoons fresh lemon juice', '2 tablespoons fresh lime juice', '2 tablespoons olive oil', '4 teaspoons tahini', '1 tablespoon apple cider vinegar', '1 tablespoon honey, preferably raw', '2 cups cilantro leaves with tender stems', '⅓ cup sliced chives', '1½ teaspoons grated peeled ginger', '1 teaspoon ground coriander', 'Kosher salt, freshly ground pepper']\",\n",
       "  \"['1 small shallot, chopped', '¾ cup olive oil', '¼ cup fresh lemon juice', '2 teaspoons Dijon mustard', '1 teaspoon honey', 'Kosher salt and freshly ground black pepper']\",\n",
       "  \"['6 cornichons, chopped', '⅓ cup olive oil', '2 tablespoons white wine vinegar', '1 tablespoon chopped drained capers', '1 tablespoon whole grain mustard', 'Kosher salt, freshly ground pepper', '3 Hard-Boiled Eggs, coarsely chopped', '2 tablespoons chopped herbs (such as tarragon and parsley)']\",\n",
       "  \"['½ cup smooth peanut butter', '2 tablespoons unseasoned rice vinegar', '1 tablespoon sugar', '1 teaspoon reduced-sodium soy sauce', 'Kosher salt and freshly ground black pepper']\",\n",
       "  \"['3 oil-packed anchovy fillets, chopped', '1 large garlic clove, chopped', '¾ teaspoon (or more) kosher salt', '1 large egg yolk', '2 tablespoons fresh lemon juice', '¾ teaspoon Dijon mustard', '¼ cup plus 2 tablespoons vegetable oil', '3 tablespoons Parmesan, finely grated']\",\n",
       "  \"['4 scallions, chopped', '¼ cup toasted sesame oil', '⅓ cup unseasoned rice vinegar', '2 tablespoons soy sauce', '1 tablespoon finely grated peeled ginger', '1 tablespoon fresh lime juice', '1 tablespoon tahini', 'Kosher salt, freshly ground pepper']\",\n",
       "  \"['4 spring onions or 8 scallions, white parts only, spring onions halved lengthwise, quartered if large', '4 tomatillos, husks removed, rinsed, quartered', '1 large or 2 small nopales (cactus paddles), spikes removed', '4 garlic cloves, finely chopped', '4 ounces queso fresco', '⅔ cup olive oil, divided', 'Kosher salt and freshly ground black pepper', '3 tablespoons Sherry vinegar or red wine vinegar', '1 teaspoon honey', '1 teaspoon instant espresso', 'Vegetable oil (for grill)', '3 cups torn frisée', '1 cup trimmed watercress', '½ English hothouse cucumber, halved lengthwise, seeds removed, thinly sliced', '1 cup fresh cilantro and parsley leaves with tender stems']\",\n",
       "  \"['¾ cup whole-milk plain Greek yogurt', '⅔ cup buttermilk', '3 tablespoons mayonnaise', '1 tablespoon finely chopped chives', '1 teaspoon fresh lemon juice', '1 garlic clove, finely grated', '¼ teaspoon dried oregano', '¼ teaspoon freshly ground black pepper', '¼ teaspoon mustard powder', '¼ teaspoon onion powder', 'Kosher salt']\",\n",
       "  \"['1 chopped serrano chile or jalapeño (seeds removed; optional)', '½ cup (packed) arugula', '½ cup (packed) fresh mint leaves', '½ cup vegetable oil', '¼ cup olive oil', '½ teaspoon finely grated lime zest', '¼ cup fresh lime juice', '½ teaspoon sugar', 'Kosher salt and freshly ground black pepper']\",\n",
       "  \"['1 red Fresno chile, with seeds, finely chopped', '¼ cup vegetable oil', '2 tablespoons fresh lime juice', '2 tablespoons white miso', '1 tablespoon reduced-sodium soy sauce', '1 tablespoon unseasoned rice vinegar', '1 teaspoon toasted sesame oil', '1 teaspoon toasted sesame seeds', '½ teaspoon grated peeled ginger']\",\n",
       "  \"['1 cup vegetable oil', '5 oz. firm tofu, drained, cut into pieces', '3 Tbsp. fresh lemon juice', '2 Tbsp. apple cider vinegar', '1 Tbsp. honey', '1 ear of corn, in husk', 'Kosher salt and freshly ground black pepper']\",\n",
       "  \"['½ bunch watercress, tough stems removed, coarsely chopped (about 2 cups)', '4 anchovy fillets packed in oil, drained', '½ cup mayonnaise', '2 tablespoons sour cream', '½ cup (lightly packed) fresh flat-leaf parsley leaves', '2 tablespoons chopped fresh chives', '2 tablespoons chopped fresh tarragon', '1 tablespoon white wine vinegar', 'Kosher salt and freshly ground black pepper']\",\n",
       "  \"['⅓ cup unseasoned rice vinegar', '¼ cup mirin', '¼ cup vegetable oil', '2 tablespoons finely grated carrot', '2 tablespoons white miso', '1 tablespoon finely grated peeled ginger', '2 teaspoons finely grated peeled turmeric or ½ teaspoon ground turmeric', '1 teaspoon toasted sesame oil']\",\n",
       "  \"['½ small garlic clove, finely grated', '1 tablespoon reduced-sodium soy sauce', '2 teaspoons unseasoned rice vinegar', '½ cup olive oil', '½ teaspoon toasted sesame oil', 'Kosher salt and freshly ground black pepper']\",\n",
       "  \"['1/2 small garlic clove, finely chopped', 'Kosher salt', '2 teaspoons white wine vinegar or fresh lemon juice', '2 tablespoons extra-virgin olive oil', '1 tablespoon chopped fresh chives', 'Freshly ground black pepper', '8 cups salad greens and fresh herb leaves and tender stems']\",\n",
       "  \"['1 large egg yolk', '1 garlic clove, finely chopped', '2 tablespoons Sherry vinegar', '½ cup olive oil', '½ cup (packed) fresh dill leaves', '½ cup (packed) fennel fronds', 'Kosher salt, freshly ground pepper']\",\n",
       "  \"['1 small shallot, finely chopped', '¾ cup olive oil', '¼ cup Champagne vinegar or white wine vinegar', '3 tablespoons fresh lemon juice', '2 tablespoons fresh orange juice', '¼ teaspoon finely grated lemon zest', 'Kosher salt and freshly ground black pepper']\",\n",
       "  \"['4 oil-packed anchovy fillets', '¼ cup raw cashews', '3 tablespoons fresh lemon juice', '1 tablespoon Dijon mustard', '2 teaspoons Worcestershire sauce', '1 teaspoon garlic powder', '½ cup olive oil', 'Kosher salt']\",\n",
       "  \"['1/2 cup mayonnaise', '1/3 cup buttermilk', '1/4 cup chopped fresh chives', '1/4 cup coarsely chopped flat-leaf parsley', '1 tablespoon chopped fresh tarragon', '1 tablespoon fresh lemon juice', '2 anchovy fillets packed in oil (drained, chopped)', '1 chopped garlic clove', 'Kosher salt and freshly ground black pepper']\",\n",
       "  \"['1/2 cup white miso', '6 tablespoons vegetable oil', '1/4 cup (packed) finely grated peeled carrot', '2 tablespoons finely grated peeled ginger', '2 tablespoons unseasoned rice vinegar', '4 teaspoons toasted sesame seeds', '2 teaspoons toasted sesame oil', '2 teaspoons honey']\",\n",
       "  \"['1/4 cup good-quality red or white wine vinegar', '1 Tbsp. Dijon mustard', '1 Tbsp. honey', '1/2 tsp. kosher salt', '1/2 garlic clove running', '1/2 cup vegetable oil', '2 Tbsp. extra-virgin olive oil', 'salt freshly ground black pepper']\"],\n",
       " 'calories': [127.0,\n",
       "  256.0,\n",
       "  140.75,\n",
       "  250.5,\n",
       "  215.75,\n",
       "  207.25,\n",
       "  251.25,\n",
       "  157.5,\n",
       "  238.125,\n",
       "  142.25,\n",
       "  252.5,\n",
       "  164.0,\n",
       "  298.875,\n",
       "  228.5,\n",
       "  180.75,\n",
       "  246.75,\n",
       "  116.25,\n",
       "  258.5,\n",
       "  249.5,\n",
       "  203.16666666666666,\n",
       "  218.0,\n",
       "  205.66666666666666,\n",
       "  219.0]}"
      ]
     },
     "execution_count": 96,
     "metadata": {},
     "output_type": "execute_result"
    }
   ],
   "source": [
    "translate_recipe()"
   ]
  },
  {
   "cell_type": "code",
   "execution_count": 35,
   "metadata": {},
   "outputs": [],
   "source": [
    "def store_recipe():\n",
    "    recipe_to_nutri = {'recipes': 0, 'ingredients': 0, 'calories': 0}\n",
    "    recipes_list = ['Turmeric-Tahini Dressing', 'Lemon-Anchovy Vinaigrette', \n",
    "                'Green Sauce No.4', 'Creamy Lemon-Mustard Vinaigrette', \n",
    "                'Gribiche (Hard-Boiled Egg) Dressing', 'Peanut Dressing', \n",
    "                'Cherry Tomato Vinaigrette', 'Classic French Dressing', \n",
    "                'Easy Homemade Caesar Dressing', 'Soy-Seasame Dressing', \n",
    "                'Grilled Green Salad with Coffee Vinaigrette', 'Buttermilk Ranch Dressing', \n",
    "                'Herby Lime Dressing', 'Sesame-Miso Vinaigette', 'Charred Corn Husk Oil Dressing', \n",
    "                'Simone Shallot Vinaigrette', 'Canal House Green Goddess Dressing', \n",
    "                'Miso-Turmeric Dressing', 'Simplest Asian Dressing', 'Herb Dressing', \n",
    "                'Fresh Chive Vinaigrette', 'Creamy Herb Dressing', 'Citrus Vinaigrette', \n",
    "                'Cashew Caesar Dressing', 'Buttermilk Green Goddess Dressing', \n",
    "                'Miso, Carrot, and Sesame Dressing', 'Creamy Dijon Vinaigrette']\n",
    "    i_list = ingredient_list()\n",
    "    cal_list = translate_recipe()\n",
    "    \n",
    "    for i in range(len(cal_list)):\n",
    "        if cal_list[i] == '0':\n",
    "        \n",
    "    recipe_to_nutri['recipes'] = recipes_list\n",
    "    recipe_to_nutri['ingredients'] = i_list\n",
    "    recipe_to_nutri['calories'] = cal_list\n",
    "    return recipe_to_nutri"
   ]
  },
  {
   "cell_type": "code",
   "execution_count": 36,
   "metadata": {},
   "outputs": [],
   "source": [
    "def access_nutri():\n",
    "    hg = requests.get('https://health.gov/dietaryguidelines/2015/guidelines/appendix-7/')\n",
    "    soup_hg = BeautifulSoup(hg.content, 'lxml') \n",
    "    soup_title = soup_hg.find('thead').find_all('th')\n",
    "    soup_cal = soup_hg.find('tbody').find('tr').find_all('th')\n",
    "    key_list = []\n",
    "    value_list = []\n",
    "    for n in range(len(soup_title)):\n",
    "        key_list.append(soup_title[n].text)\n",
    "        s = soup_cal[n].text.strip(',').split(' ')\n",
    "        value_list.append(s)\n",
    "    key_list = key_list[1:]\n",
    "    value_list = value_list[1:]\n",
    "    health_goal = dict(zip(key_list, value_list))\n",
    "    \n",
    "    df = DataFrame(health_goal)\n",
    "    df.index = ['Calories Goal']\n",
    "    return df"
   ]
  },
  {
   "cell_type": "code",
   "execution_count": 37,
   "metadata": {},
   "outputs": [],
   "source": [
    "def local_nutri():\n",
    "    nutri_infor = access_nutri().to_csv('nutrition_goal.csv')\n",
    "    return nutri_infor"
   ]
  },
  {
   "cell_type": "code",
   "execution_count": 99,
   "metadata": {},
   "outputs": [],
   "source": [
    "def local_calories():\n",
    "    recipe_to_nutri = translate_recipe()\n",
    "    df = DataFrame(recipe_to_nutri)\n",
    "    csv1 = df.to_csv('recipe_to_nutri.csv')\n",
    "    return csv1"
   ]
  },
  {
   "cell_type": "code",
   "execution_count": 100,
   "metadata": {},
   "outputs": [],
   "source": [
    "local_calories()"
   ]
  },
  {
   "cell_type": "code",
   "execution_count": 39,
   "metadata": {},
   "outputs": [],
   "source": [
    "def get_local():\n",
    "    u = user_input()\n",
    "    age_input = u[1]\n",
    "    gender_input = u[2]\n",
    "    recipe_input = u[0]\n",
    "    age_range = ' '\n",
    "    if 1 <= age_input <= 3:\n",
    "        cal_standard = df['Child 1-3'][0]\n",
    "    elif 4 < age_input <= 8:\n",
    "        age_range = '4-8'\n",
    "    elif 8 < age_input <= 13:\n",
    "        age_range = '9-13'\n",
    "    elif 14 < age_input <= 18:\n",
    "        age_range = '15-18'\n",
    "    elif 18 < age_input <= 30:\n",
    "        age_range = '19-30'\n",
    "    elif 30 < age_input <= 50:\n",
    "        age_range = '31-50'\n",
    "    elif 50 < age_input:\n",
    "        age_range = '51+'\n",
    "    \n",
    "    nutrition_df = pd.read_csv('nutrition_goal.csv')\n",
    "    cal_standard = nutrition_df[gender_input + ' ' + age_range][0]\n",
    "    t = list(cal_standard)\n",
    "    number_list = [ ]\n",
    "\n",
    "    for i in range(len(t)):\n",
    "        if len(t) > 5 and (i == 5 or i == 11):\n",
    "            t[i] = \" \"\n",
    "        elif len(t) <= 5:\n",
    "            cal_goals = int(cal_standard.replace(',', ''))\n",
    "        else:\n",
    "            cal1 = ''.join(t).strip(',').split(' ')\n",
    "            if len(cal1) > 1:\n",
    "                for number in cal1:\n",
    "                    number_list.append(int(number.replace(',', '')))\n",
    "                    cal_goals = int(np.mean(number_list))\n",
    "    \n",
    "    cal_df = pd.read_csv('recipe_to_nutri.csv')\n",
    "    cal_num = cal_df['calories'][int(recipe_input)]\n",
    "    cal_to_goal = cal_num / cal_goals\n",
    "    \n",
    "    return cal_to_goal"
   ]
  },
  {
   "cell_type": "code",
   "execution_count": 40,
   "metadata": {},
   "outputs": [
    {
     "name": "stderr",
     "output_type": "stream",
     "text": [
      "usage: ipykernel_launcher.py [-h] [-source {local,remote}]\n",
      "ipykernel_launcher.py: error: unrecognized arguments: -f /Users/rachelzhu/Library/Jupyter/runtime/kernel-0809d47d-2f29-4e3a-9f30-4774c99e363c.json\n"
     ]
    },
    {
     "ename": "SystemExit",
     "evalue": "2",
     "output_type": "error",
     "traceback": [
      "An exception has occurred, use %tb to see the full traceback.\n",
      "\u001b[0;31mSystemExit\u001b[0m\u001b[0;31m:\u001b[0m 2\n"
     ]
    },
    {
     "name": "stderr",
     "output_type": "stream",
     "text": [
      "//anaconda3/lib/python3.7/site-packages/IPython/core/interactiveshell.py:3333: UserWarning: To exit: use 'exit', 'quit', or Ctrl-D.\n",
      "  warn(\"To exit: use 'exit', 'quit', or Ctrl-D.\", stacklevel=1)\n"
     ]
    }
   ],
   "source": [
    "def get_remote():\n",
    "    u = user_input()\n",
    "    inputs = int(u[0])\n",
    "    # recipes_scrap()\n",
    "    cal_num = store_recipe()['calories'][inputs]\n",
    "\n",
    "    age_input = u[1]\n",
    "    gender_input = u[2]\n",
    "    age_range = ' '\n",
    "    if 1 <= age_input <= 3:\n",
    "        cal_standard = df['Child 1-3'][0]\n",
    "    elif 4 < age_input <= 8:\n",
    "        age_range = '4-8'\n",
    "    elif 8 < age_input <= 13:\n",
    "        age_range = '9-13'\n",
    "    elif 14 < age_input <= 18:\n",
    "        age_range = '15-18'\n",
    "    elif 18 < age_input <= 30:\n",
    "        age_range = '19-30'\n",
    "    elif 30 < age_input <= 50:\n",
    "        age_range = '31-50'\n",
    "    elif 50 < age_input:\n",
    "        age_range = '51+'\n",
    "\n",
    "    df = access_nutri()\n",
    "    cal_standard = df[gender_input + ' ' + age_range][0]\n",
    "    t = list(cal_standard)\n",
    "    number_list = [ ]\n",
    "\n",
    "    for i in range(len(t)):\n",
    "        if len(t) > 5 and (i == 5 or i == 11):\n",
    "            t[i] = \" \"\n",
    "        elif len(t) <= 5:\n",
    "            cal_goals = int(cal_standard.replace(',', ''))\n",
    "        else:\n",
    "            cal1 = ''.join(t).strip(',').split(' ')\n",
    "            if len(cal1) > 1:\n",
    "                for number in cal1:\n",
    "                    number_list.append(int(number.replace(',', '')))\n",
    "                    cal_goals = int(np.mean(number_list))\n",
    "    \n",
    "    cal_to_goal = cal_num / cal_goals\n",
    "    return cal_to_goal\n",
    "\n",
    "if __name__ == \"__main__\":\n",
    "    parser = argparse.ArgumentParser()\n",
    "    parser.add_argument('-source', choices=['local', 'remote'], help='This is what the data source')\n",
    "    args = parser.parse_args()\n",
    "\n",
    "    location = args.source\n",
    "    if location == 'local':\n",
    "        cal_to_goal = get_local()\n",
    "        print(cal_to_goal)\n",
    "    else:\n",
    "        cal_to_goal = get_remote()\n",
    "        print(cal_to_goal)\n",
    "\n",
    "else:\n",
    "    cal_to_goal = get_remote()\n",
    "    print(cal_to_goal)"
   ]
  },
  {
   "cell_type": "code",
   "execution_count": null,
   "metadata": {},
   "outputs": [],
   "source": []
  }
 ],
 "metadata": {
  "kernelspec": {
   "display_name": "Python 3",
   "language": "python",
   "name": "python3"
  },
  "language_info": {
   "codemirror_mode": {
    "name": "ipython",
    "version": 3
   },
   "file_extension": ".py",
   "mimetype": "text/x-python",
   "name": "python",
   "nbconvert_exporter": "python",
   "pygments_lexer": "ipython3",
   "version": "3.7.3"
  }
 },
 "nbformat": 4,
 "nbformat_minor": 2
}
