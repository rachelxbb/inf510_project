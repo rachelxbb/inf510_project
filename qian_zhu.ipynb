{
 "cells": [
  {
   "cell_type": "markdown",
   "metadata": {},
   "source": [
    "### INF 510 Fall 2019 Final Project Submission"
   ]
  },
  {
   "cell_type": "markdown",
   "metadata": {},
   "source": [
    "1.\t**The name of team member(s)**:\n",
    "\n",
    "    Qian Zhu"
   ]
  },
  {
   "cell_type": "markdown",
   "metadata": {},
   "source": [
    "2.\t**How to run your code**:\n",
    "\n",
    "    This project requires the following packages:\n",
    "      \n",
    "      - pandas, Series, DataFrame, matplotlib, matplotlib.pyplot, requests, BeautifulSoup, numpy, and json\n",
    "      \n",
    "      Please make sure the above packages are installed, and then clone the [code](https://github.com/rachelxbb/inf510_project) and run in command line, if calling *python qian_zhu_hw_6.py*. \n",
    "\n",
    "    Then it will list the recipes and come to the user interface, asking the users to choose one and enter their ages and gender (Female / Male) for analysis. At last, it will let the users to choose whether they want to see the visualized graph or not. If “Yes”, then the users can check the graph at /data folder."
   ]
  },
  {
   "cell_type": "markdown",
   "metadata": {},
   "source": [
    "3.\t**Any major “gotchas” to the code**:\n",
    "    \n",
    "    Although the code reads data from local datasets, it still takes around 8 - 10 seconds when calling in command line to get into the user interface, i.e. having a recipe list for choosing. \n",
    "    \n",
    "    Besides, it involves several interactive steps with users, that it might break if inappropriate contents were input even though I embedded some exceptions catching steps in the code. If given more time, I will improve this to make the analysis to rule out any possible outliers."
   ]
  },
  {
   "cell_type": "markdown",
   "metadata": {},
   "source": [
    "4.  **Anything else you feel is relevant to the grading of your project your project.**\n",
    "    \n",
    "    When working on milestone3, I found that the previous data models are not perfect for this step, that I made slight adjustments for the two Pandas tables. \n",
    "\n",
    "    Specifically, I deleted *“[ ]”* in the ingredients column in table *recipe_to_nutri_1*, and made the contents to be string rather than lists (lists are convenient for translating recipes to calories according to the requirements of API). "
   ]
  },
  {
   "cell_type": "code",
   "execution_count": 1,
   "metadata": {},
   "outputs": [],
   "source": [
    "import database_modeling as d"
   ]
  },
  {
   "cell_type": "code",
   "execution_count": 2,
   "metadata": {},
   "outputs": [
    {
     "data": {
      "text/html": [
       "<div>\n",
       "<style scoped>\n",
       "    .dataframe tbody tr th:only-of-type {\n",
       "        vertical-align: middle;\n",
       "    }\n",
       "\n",
       "    .dataframe tbody tr th {\n",
       "        vertical-align: top;\n",
       "    }\n",
       "\n",
       "    .dataframe thead th {\n",
       "        text-align: right;\n",
       "    }\n",
       "</style>\n",
       "<table border=\"1\" class=\"dataframe\">\n",
       "  <thead>\n",
       "    <tr style=\"text-align: right;\">\n",
       "      <th></th>\n",
       "      <th>recipes</th>\n",
       "      <th>ingredients</th>\n",
       "      <th>calories</th>\n",
       "    </tr>\n",
       "  </thead>\n",
       "  <tbody>\n",
       "    <tr>\n",
       "      <th>0</th>\n",
       "      <td>Turmeric-Tahini Dressing</td>\n",
       "      <td>3 tablespoons fresh lemon juice, 2 tablespoons...</td>\n",
       "      <td>127.000000</td>\n",
       "    </tr>\n",
       "    <tr>\n",
       "      <th>1</th>\n",
       "      <td>Lemon-Anchovy Vinaigrette</td>\n",
       "      <td>2 lemons, 4 anchovy fillets packed in oil, dra...</td>\n",
       "      <td>256.000000</td>\n",
       "    </tr>\n",
       "    <tr>\n",
       "      <th>2</th>\n",
       "      <td>Green Sauce No.4</td>\n",
       "      <td>3 tablespoons white miso, 3 tablespoons fresh ...</td>\n",
       "      <td>140.750000</td>\n",
       "    </tr>\n",
       "    <tr>\n",
       "      <th>3</th>\n",
       "      <td>Creamy Lemon-Mustard Vinaigrette</td>\n",
       "      <td>1 small shallot, chopped, ¾ cup olive oil, ¼ c...</td>\n",
       "      <td>250.500000</td>\n",
       "    </tr>\n",
       "    <tr>\n",
       "      <th>4</th>\n",
       "      <td>Gribiche (Hard-Boiled Egg) Dressing</td>\n",
       "      <td>6 cornichons, chopped, ⅓ cup olive oil, 2 tabl...</td>\n",
       "      <td>215.750000</td>\n",
       "    </tr>\n",
       "    <tr>\n",
       "      <th>5</th>\n",
       "      <td>Peanut Dressing</td>\n",
       "      <td>½ cup smooth peanut butter, 2 tablespoons unse...</td>\n",
       "      <td>207.250000</td>\n",
       "    </tr>\n",
       "    <tr>\n",
       "      <th>6</th>\n",
       "      <td>Easy Homemade Caesar Dressing</td>\n",
       "      <td>3 oil-packed anchovy fillets, chopped, 1 large...</td>\n",
       "      <td>251.250000</td>\n",
       "    </tr>\n",
       "    <tr>\n",
       "      <th>7</th>\n",
       "      <td>Soy-Seasame Dressing</td>\n",
       "      <td>4 scallions, chopped, ¼ cup toasted sesame oil...</td>\n",
       "      <td>157.500000</td>\n",
       "    </tr>\n",
       "    <tr>\n",
       "      <th>8</th>\n",
       "      <td>Grilled Green Salad with Coffee Vinaigrette</td>\n",
       "      <td>4 spring onions or 8 scallions, white parts on...</td>\n",
       "      <td>238.125000</td>\n",
       "    </tr>\n",
       "    <tr>\n",
       "      <th>9</th>\n",
       "      <td>Buttermilk Ranch Dressing</td>\n",
       "      <td>¾ cup whole-milk plain Greek yogurt, ⅔ cup but...</td>\n",
       "      <td>142.250000</td>\n",
       "    </tr>\n",
       "    <tr>\n",
       "      <th>10</th>\n",
       "      <td>Herby Lime Dressing</td>\n",
       "      <td>1 chopped serrano chile or jalapeño (seeds rem...</td>\n",
       "      <td>252.500000</td>\n",
       "    </tr>\n",
       "    <tr>\n",
       "      <th>11</th>\n",
       "      <td>Sesame-Miso Vinaigette</td>\n",
       "      <td>1 red Fresno chile, with seeds, finely chopped...</td>\n",
       "      <td>164.000000</td>\n",
       "    </tr>\n",
       "    <tr>\n",
       "      <th>12</th>\n",
       "      <td>Charred Corn Husk Oil Dressing</td>\n",
       "      <td>1 cup vegetable oil, 5 oz. firm tofu, drained,...</td>\n",
       "      <td>298.875000</td>\n",
       "    </tr>\n",
       "    <tr>\n",
       "      <th>13</th>\n",
       "      <td>Canal House Green Goddess Dressing</td>\n",
       "      <td>½ bunch watercress, tough stems removed, coars...</td>\n",
       "      <td>228.500000</td>\n",
       "    </tr>\n",
       "    <tr>\n",
       "      <th>14</th>\n",
       "      <td>Miso-Turmeric Dressing</td>\n",
       "      <td>⅓ cup unseasoned rice vinegar, ¼ cup mirin, ¼ ...</td>\n",
       "      <td>180.750000</td>\n",
       "    </tr>\n",
       "    <tr>\n",
       "      <th>15</th>\n",
       "      <td>Simplest Asian Dressing</td>\n",
       "      <td>½ small garlic clove, finely grated, 1 tablesp...</td>\n",
       "      <td>246.750000</td>\n",
       "    </tr>\n",
       "    <tr>\n",
       "      <th>16</th>\n",
       "      <td>Fresh Chive Vinaigrette</td>\n",
       "      <td>1/2 small garlic clove, finely chopped, Kosher...</td>\n",
       "      <td>116.250000</td>\n",
       "    </tr>\n",
       "    <tr>\n",
       "      <th>17</th>\n",
       "      <td>Creamy Herb Dressing</td>\n",
       "      <td>1 large egg yolk, 1 garlic clove, finely chopp...</td>\n",
       "      <td>258.500000</td>\n",
       "    </tr>\n",
       "    <tr>\n",
       "      <th>18</th>\n",
       "      <td>Citrus Vinaigrette</td>\n",
       "      <td>1 small shallot, finely chopped, ¾ cup olive o...</td>\n",
       "      <td>249.500000</td>\n",
       "    </tr>\n",
       "    <tr>\n",
       "      <th>19</th>\n",
       "      <td>Cashew Caesar Dressing</td>\n",
       "      <td>4 oil-packed anchovy fillets, ¼ cup raw cashew...</td>\n",
       "      <td>203.166667</td>\n",
       "    </tr>\n",
       "    <tr>\n",
       "      <th>20</th>\n",
       "      <td>Buttermilk Green Goddess Dressing</td>\n",
       "      <td>1/2 cup mayonnaise, 1/3 cup buttermilk, 1/4 cu...</td>\n",
       "      <td>218.000000</td>\n",
       "    </tr>\n",
       "    <tr>\n",
       "      <th>21</th>\n",
       "      <td>Miso, Carrot, and Sesame Dressing</td>\n",
       "      <td>1/2 cup white miso, 6 tablespoons vegetable oi...</td>\n",
       "      <td>205.666667</td>\n",
       "    </tr>\n",
       "    <tr>\n",
       "      <th>22</th>\n",
       "      <td>Creamy Dijon Vinaigrette</td>\n",
       "      <td>1/4 cup good-quality red or white wine vinegar...</td>\n",
       "      <td>219.000000</td>\n",
       "    </tr>\n",
       "  </tbody>\n",
       "</table>\n",
       "</div>"
      ],
      "text/plain": [
       "                                        recipes  \\\n",
       "0                      Turmeric-Tahini Dressing   \n",
       "1                     Lemon-Anchovy Vinaigrette   \n",
       "2                              Green Sauce No.4   \n",
       "3              Creamy Lemon-Mustard Vinaigrette   \n",
       "4           Gribiche (Hard-Boiled Egg) Dressing   \n",
       "5                               Peanut Dressing   \n",
       "6                 Easy Homemade Caesar Dressing   \n",
       "7                          Soy-Seasame Dressing   \n",
       "8   Grilled Green Salad with Coffee Vinaigrette   \n",
       "9                     Buttermilk Ranch Dressing   \n",
       "10                          Herby Lime Dressing   \n",
       "11                       Sesame-Miso Vinaigette   \n",
       "12               Charred Corn Husk Oil Dressing   \n",
       "13           Canal House Green Goddess Dressing   \n",
       "14                       Miso-Turmeric Dressing   \n",
       "15                      Simplest Asian Dressing   \n",
       "16                      Fresh Chive Vinaigrette   \n",
       "17                         Creamy Herb Dressing   \n",
       "18                           Citrus Vinaigrette   \n",
       "19                       Cashew Caesar Dressing   \n",
       "20            Buttermilk Green Goddess Dressing   \n",
       "21            Miso, Carrot, and Sesame Dressing   \n",
       "22                     Creamy Dijon Vinaigrette   \n",
       "\n",
       "                                          ingredients    calories  \n",
       "0   3 tablespoons fresh lemon juice, 2 tablespoons...  127.000000  \n",
       "1   2 lemons, 4 anchovy fillets packed in oil, dra...  256.000000  \n",
       "2   3 tablespoons white miso, 3 tablespoons fresh ...  140.750000  \n",
       "3   1 small shallot, chopped, ¾ cup olive oil, ¼ c...  250.500000  \n",
       "4   6 cornichons, chopped, ⅓ cup olive oil, 2 tabl...  215.750000  \n",
       "5   ½ cup smooth peanut butter, 2 tablespoons unse...  207.250000  \n",
       "6   3 oil-packed anchovy fillets, chopped, 1 large...  251.250000  \n",
       "7   4 scallions, chopped, ¼ cup toasted sesame oil...  157.500000  \n",
       "8   4 spring onions or 8 scallions, white parts on...  238.125000  \n",
       "9   ¾ cup whole-milk plain Greek yogurt, ⅔ cup but...  142.250000  \n",
       "10  1 chopped serrano chile or jalapeño (seeds rem...  252.500000  \n",
       "11  1 red Fresno chile, with seeds, finely chopped...  164.000000  \n",
       "12  1 cup vegetable oil, 5 oz. firm tofu, drained,...  298.875000  \n",
       "13  ½ bunch watercress, tough stems removed, coars...  228.500000  \n",
       "14  ⅓ cup unseasoned rice vinegar, ¼ cup mirin, ¼ ...  180.750000  \n",
       "15  ½ small garlic clove, finely grated, 1 tablesp...  246.750000  \n",
       "16  1/2 small garlic clove, finely chopped, Kosher...  116.250000  \n",
       "17  1 large egg yolk, 1 garlic clove, finely chopp...  258.500000  \n",
       "18  1 small shallot, finely chopped, ¾ cup olive o...  249.500000  \n",
       "19  4 oil-packed anchovy fillets, ¼ cup raw cashew...  203.166667  \n",
       "20  1/2 cup mayonnaise, 1/3 cup buttermilk, 1/4 cu...  218.000000  \n",
       "21  1/2 cup white miso, 6 tablespoons vegetable oi...  205.666667  \n",
       "22  1/4 cup good-quality red or white wine vinegar...  219.000000  "
      ]
     },
     "execution_count": 2,
     "metadata": {},
     "output_type": "execute_result"
    }
   ],
   "source": [
    "d.perfect_database()"
   ]
  },
  {
   "cell_type": "markdown",
   "metadata": {},
   "source": [
    "And for *nutrition_goal_1*, I reorganized the columns and rows to make it more read-friendly. Meanwhile, as there are some rows having several values for the same sex-age group, I imputed the average number as the value for that group.\n",
    "\n",
    "The new tables and related codes are stored in the [/data](https://github.com/rachelxbb/inf510_project/tree/master/data) and [/src](https://github.com/rachelxbb/inf510_project/tree/master/src) separately for reference."
   ]
  },
  {
   "cell_type": "code",
   "execution_count": 2,
   "metadata": {},
   "outputs": [
    {
     "data": {
      "text/html": [
       "<div>\n",
       "<style scoped>\n",
       "    .dataframe tbody tr th:only-of-type {\n",
       "        vertical-align: middle;\n",
       "    }\n",
       "\n",
       "    .dataframe tbody tr th {\n",
       "        vertical-align: top;\n",
       "    }\n",
       "\n",
       "    .dataframe thead th {\n",
       "        text-align: right;\n",
       "    }\n",
       "</style>\n",
       "<table border=\"1\" class=\"dataframe\">\n",
       "  <thead>\n",
       "    <tr style=\"text-align: right;\">\n",
       "      <th></th>\n",
       "      <th>Age-Sex Groups</th>\n",
       "      <th>Calories Goal</th>\n",
       "    </tr>\n",
       "  </thead>\n",
       "  <tbody>\n",
       "    <tr>\n",
       "      <th>0</th>\n",
       "      <td>Child 1-3</td>\n",
       "      <td>1000</td>\n",
       "    </tr>\n",
       "    <tr>\n",
       "      <th>1</th>\n",
       "      <td>Female 4-8</td>\n",
       "      <td>1200</td>\n",
       "    </tr>\n",
       "    <tr>\n",
       "      <th>2</th>\n",
       "      <td>Male 4-8</td>\n",
       "      <td>1500</td>\n",
       "    </tr>\n",
       "    <tr>\n",
       "      <th>3</th>\n",
       "      <td>Female 9-13</td>\n",
       "      <td>1600</td>\n",
       "    </tr>\n",
       "    <tr>\n",
       "      <th>4</th>\n",
       "      <td>Male 9-13</td>\n",
       "      <td>1800</td>\n",
       "    </tr>\n",
       "    <tr>\n",
       "      <th>5</th>\n",
       "      <td>Female 14-18</td>\n",
       "      <td>1800</td>\n",
       "    </tr>\n",
       "    <tr>\n",
       "      <th>6</th>\n",
       "      <td>Male 14-18</td>\n",
       "      <td>2733</td>\n",
       "    </tr>\n",
       "    <tr>\n",
       "      <th>7</th>\n",
       "      <td>Female 19-30</td>\n",
       "      <td>2000</td>\n",
       "    </tr>\n",
       "    <tr>\n",
       "      <th>8</th>\n",
       "      <td>Male 19-30</td>\n",
       "      <td>2666</td>\n",
       "    </tr>\n",
       "    <tr>\n",
       "      <th>9</th>\n",
       "      <td>Female 31-50</td>\n",
       "      <td>1800</td>\n",
       "    </tr>\n",
       "    <tr>\n",
       "      <th>10</th>\n",
       "      <td>Male 31-50</td>\n",
       "      <td>2200</td>\n",
       "    </tr>\n",
       "    <tr>\n",
       "      <th>11</th>\n",
       "      <td>Female 51+</td>\n",
       "      <td>1600</td>\n",
       "    </tr>\n",
       "    <tr>\n",
       "      <th>12</th>\n",
       "      <td>Male 51+</td>\n",
       "      <td>2000</td>\n",
       "    </tr>\n",
       "  </tbody>\n",
       "</table>\n",
       "</div>"
      ],
      "text/plain": [
       "   Age-Sex Groups  Calories Goal\n",
       "0       Child 1-3           1000\n",
       "1      Female 4-8           1200\n",
       "2        Male 4-8           1500\n",
       "3     Female 9-13           1600\n",
       "4       Male 9-13           1800\n",
       "5    Female 14-18           1800\n",
       "6      Male 14-18           2733\n",
       "7    Female 19-30           2000\n",
       "8      Male 19-30           2666\n",
       "9    Female 31-50           1800\n",
       "10     Male 31-50           2200\n",
       "11     Female 51+           1600\n",
       "12       Male 51+           2000"
      ]
     },
     "execution_count": 2,
     "metadata": {},
     "output_type": "execute_result"
    }
   ],
   "source": [
    "d.access_nutri()"
   ]
  },
  {
   "cell_type": "markdown",
   "metadata": {},
   "source": [
    "5. **What did you set out to study?**：\n",
    "\n",
    "    We've often heard that lots of advocators encouraging people to eat health food, e. g. salad. That drives my curiosity to look at the nutritional information of salad dressing people are taking, and to find out whether it is as health as supposed. Thus, I extracted ingredients from the salad dressing recipes I found, and translated them into numeric results for comparing them with the daily nutritional goals suggested by National Dietary Guidelines. Then I calculate the percentage of salad dressing per serving to daily nutritional goals, which may somehow help us unveil the real nutritional values of those “supposed to be health food”, and let us be more objective when choosing “health food”.\n",
    "    \n",
    "    Step1: In order to have more accurate results, users are being asked to have interface for entering their chosen recipe, age and gender."
   ]
  },
  {
   "cell_type": "code",
   "execution_count": 3,
   "metadata": {
    "scrolled": false
   },
   "outputs": [
    {
     "name": "stdout",
     "output_type": "stream",
     "text": [
      "This file was imported as a module! __name__ is qian_zhu_hw_6\n"
     ]
    }
   ],
   "source": [
    "import qian_zhu_hw_6 as f"
   ]
  },
  {
   "cell_type": "code",
   "execution_count": null,
   "metadata": {},
   "outputs": [],
   "source": [
    "#Ask users to choose one recipe from a list of recipes, and enter their age and gender for calculation.\n",
    "f.user_input()"
   ]
  },
  {
   "cell_type": "markdown",
   "metadata": {},
   "source": [
    "Step2: Based on the information provided, a decimal number is returned as the percentage at this stage. Scientific studies suggest daily intake of salad dressing should be limited to ***120 calories***, that indicates about ***6% of daily calories to an adult*** based on the average daily calories. Remember this number, which will be helpful in the next steps."
   ]
  },
  {
   "cell_type": "code",
   "execution_count": 6,
   "metadata": {},
   "outputs": [
    {
     "name": "stdout",
     "output_type": "stream",
     "text": [
      "Here are our 23 creative salad dressing recipes:\n",
      "\n",
      " 1. Turmeric-Tahini Dressing\n",
      " 2. Lemon-Anchovy Vinaigrette\n",
      " 3. Green Sauce No.4\n",
      " 4. Creamy Lemon-Mustard Vinaigrette\n",
      " 5. Gribiche (Hard-Boiled Egg) Dressing\n",
      " 6. Peanut Dressing\n",
      " 7. Easy Homemade Caesar Dressing\n",
      " 8. Soy-Seasame Dressing\n",
      " 9. Grilled Green Salad with Coffee Vinaigrette\n",
      " 10. Buttermilk Ranch Dressing\n",
      " 11. Herby Lime Dressing\n",
      " 12. Sesame-Miso Vinaigette\n",
      " 13. Charred Corn Husk Oil Dressing\n",
      " 14. Canal House Green Goddess Dressing\n",
      " 15. Miso-Turmeric Dressing\n",
      " 16. Simplest Asian Dressing\n",
      " 17. Fresh Chive Vinaigrette\n",
      " 18. Creamy Herb Dressing\n",
      " 19. Citrus Vinaigrette\n",
      " 20. Cashew Caesar Dressing\n",
      " 21. Buttermilk Green Goddess Dressing\n",
      " 22. Miso, Carrot, and Sesame Dressing\n",
      " 23. Creamy Dijon Vinaigrette\n",
      "Please choose your recipe number: (once a time) 1\n",
      "\n",
      "Please enter your age: 30\n",
      "\n",
      "Please choose your gender: (Please follow the format: Female or Male) Female\n"
     ]
    },
    {
     "data": {
      "text/plain": [
       "0.0635"
      ]
     },
     "execution_count": 6,
     "metadata": {},
     "output_type": "execute_result"
    }
   ],
   "source": [
    "#Calculate the percentage of the calories of a certain recipe to the daily nutritional goals.\n",
    "f.cal_percentage()"
   ]
  },
  {
   "cell_type": "markdown",
   "metadata": {},
   "source": [
    "Step3: Call the function from command line, then it gives either the warning (if the chosen recipe exceeds the calorie limit) or a tip saying that it has not exceeded the limit. If it does not reach the limit, the users will be told with the percentage left."
   ]
  },
  {
   "cell_type": "code",
   "execution_count": 4,
   "metadata": {
    "scrolled": false
   },
   "outputs": [
    {
     "name": "stdout",
     "output_type": "stream",
     "text": [
      "Here are our 23 creative salad dressing recipes:\n",
      "\n",
      " 1. Turmeric-Tahini Dressing\n",
      " 2. Lemon-Anchovy Vinaigrette\n",
      " 3. Green Sauce No.4\n",
      " 4. Creamy Lemon-Mustard Vinaigrette\n",
      " 5. Gribiche (Hard-Boiled Egg) Dressing\n",
      " 6. Peanut Dressing\n",
      " 7. Easy Homemade Caesar Dressing\n",
      " 8. Soy-Seasame Dressing\n",
      " 9. Grilled Green Salad with Coffee Vinaigrette\n",
      " 10. Buttermilk Ranch Dressing\n",
      " 11. Herby Lime Dressing\n",
      " 12. Sesame-Miso Vinaigette\n",
      " 13. Charred Corn Husk Oil Dressing\n",
      " 14. Canal House Green Goddess Dressing\n",
      " 15. Miso-Turmeric Dressing\n",
      " 16. Simplest Asian Dressing\n",
      " 17. Fresh Chive Vinaigrette\n",
      " 18. Creamy Herb Dressing\n",
      " 19. Citrus Vinaigrette\n",
      " 20. Cashew Caesar Dressing\n",
      " 21. Buttermilk Green Goddess Dressing\n",
      " 22. Miso, Carrot, and Sesame Dressing\n",
      " 23. Creamy Dijon Vinaigrette\n",
      "Please choose your recipe number: (once a time) 1\n",
      "\n",
      "Please enter your age: 30\n",
      "\n",
      "Please choose your gender: (Please follow the format: Female or Male) Female\n",
      "0.0635\n",
      "Watch Out! Your recipe's calories exceed daily limits of 6%!\n",
      "Do you want to see graphs? - Yes or No Y\n",
      "Please check the Barchart at /data folder.\n"
     ]
    }
   ],
   "source": [
    "#This is the comand line execution command, embedding another user interface of visualized graph option.\n",
    "#It checks whether a certain recipe exceeds the calorie limit or not, and print out the result for users.\n",
    "if __name__ == \"__main__\":\n",
    "    cal_per = f.cal_percentage() #This sentence adjusted here to make it work by calling qian_zhu_hw_6 as a module.\n",
    "    #cal_per = cal_percentage() #this is the sentence from qian_zhu_hw_6.py file.\n",
    "    print(cal_per)\n",
    "    if cal_per >= 0.06:\n",
    "        print(\"Watch Out! Your recipe's calories exceed daily limits of 6%!\")\n",
    "    else:\n",
    "        left = str(round(100 * (0.06 - cal_per), 2))\n",
    "        print(\"Your recipe's calories have not exceeded daily limits of 6%.\")\n",
    "        print('You still have ' + left + '%' + ' calories left.')\n",
    "\n",
    "    graph_input = input('Do you want to see graphs? - Yes or No ')\n",
    "\n",
    "    if graph_input == 'Yes' or graph_input == 'Y' or graph_input == 'yes' or graph_input == 'y':\n",
    "        print('Please check the Barchart at /data folder.')\n",
    "    elif graph_input == 'No' or graph_input == 'N' or graph_input == 'no' or graph_input == 'n':\n",
    "        print('Thank you for letting me know that you don not like beautiful graphs.')\n",
    "    else:\n",
    "        graph_input = input('Please input your answer again: ')"
   ]
  },
  {
   "cell_type": "markdown",
   "metadata": {},
   "source": [
    "Step4: At this stage, I am going to analyze and visualize the numeric results from last steps. Recall the limit of ***120 calories*** and ***6% of daily calories to an adult*** in this step, to see what do they mean to us."
   ]
  },
  {
   "cell_type": "code",
   "execution_count": 8,
   "metadata": {},
   "outputs": [
    {
     "data": {
      "text/plain": [
       "<matplotlib.axes._subplots.AxesSubplot at 0x1a2327d668>"
      ]
     },
     "execution_count": 8,
     "metadata": {},
     "output_type": "execute_result"
    },
    {
     "data": {
      "image/png": "[encoded data removed]",
      "text/plain": [
       "<Figure size 432x288 with 1 Axes>"
      ]
     },
     "metadata": {
      "needs_background": "light"
     },
     "output_type": "display_data"
    }
   ],
   "source": [
    "#Visualize the calories information of all recipes listed with a descending order, as well as the limited line in red (120 calories).\n",
    "#This helps form a more direct observation of the calories with a rough range, and whether they exceed the limit or not.\n",
    "#The graph is an option for users to choose whether they want to see or not.\n",
    "f.viz_cal()"
   ]
  },
  {
   "cell_type": "markdown",
   "metadata": {},
   "source": [
    "Step5 : Now we know that the least heavy dressing is *17. Fresh Chive Vinaigrette* while the heaviest one is *13. Charred Corn Husk Oil Dressing*. Based on the two, I am going to visualize the ranges with daily calories goals combing the daily intake calories of different age-sex groups, and to check if is there any \"health\" dressing and which group can have it."
   ]
  },
  {
   "cell_type": "code",
   "execution_count": 2,
   "metadata": {},
   "outputs": [
    {
     "data": {
      "text/plain": [
       "<matplotlib.axes._subplots.AxesSubplot at 0x1a18fe2f98>"
      ]
     },
     "execution_count": 2,
     "metadata": {},
     "output_type": "execute_result"
    },
    {
     "data": {
      "image/png": "[encoded data removed]",
      "text/plain": [
       "<Figure size 432x288 with 1 Axes>"
      ]
     },
     "metadata": {
      "needs_background": "light"
     },
     "output_type": "display_data"
    }
   ],
   "source": [
    "#Combine daily calories goals and salad dressing calories range.\n",
    "#The graph is an option for users to choose whether they want to see or not.\n",
    "f.viz_nut()"
   ]
  },
  {
   "cell_type": "markdown",
   "metadata": {},
   "source": [
    "6. **What did you Discover/what were your conclusions**:\n",
    "\n",
    "    According to the plots above, we may be surprised to find out that almost all recipes exceed the calorie limit of 120 calories (6% of an adult daily intake calories). Looking in-depth into the age-sex groups, the two lines show the range of daily intake calories for those groups based on the recipes. From *graph viz_nut*, we may say that taking any of the listed salad dressing will exceed some groups’ daily limit, for example, *Child 1-3*, *Female 4-8*, etc.\n",
    "    \n",
    "    All the observations we’ve had led to a conclusion that the food which is supposed to be health may hurt our health even if only be consumed a small amount. Thus, we should be more cautious about the food we are taking and be more objective to the \"healthy lifestyles\"."
   ]
  },
  {
   "cell_type": "markdown",
   "metadata": {},
   "source": [
    "7. **What difficulties did you have in completing the project**:  \n",
    "\n",
    "    The difficulty of this project was that how to present the answer to a vague research question to see whether a \"healthy\" food is really doing good to our body or not. For example, what does the answer of “No, the ‘healthy’ food is actually hurting us.” mean to us. I cannot tell the users only the answer of “Yes” or “No”, but also the reason behind it. When at Milestone 1, I thought that having the percentage number would be the end of this project. However, when going through Milestone 2 and 3, I found that merely a number was not enough for an “analysis”, so that I adjusted my project design and added visualization part, allowing the users to have a direct image of the meaning of the numeric results. In order to better support the analysis, I optimized data models, which was also challenging for this project since I needed to review my past work and revise again.\n",
    "    \n",
    "    When doing web scraping from an external API, 3 recipes got error returns from my end, but they worked well from API support team’s end. It was unable to fix that problem regarding the submission time, that I left the 3 recipes in the data cleaning step to make sure the other part of this project still works."
   ]
  },
  {
   "cell_type": "markdown",
   "metadata": {},
   "source": [
    "8. **What skills did you wish you had while you were doing the project**:\n",
    "\n",
    "    I wish I could have a more concise code for this project, which would be more read-friendly and minimize running time.\n",
    "    \n",
    "    The other skill I want to have is the ability to catch more exceptions to avoid the errors in user interface.The other skill I want to have is the ability to catch more exceptions to avoid the errors in user interface. When running this program, it asks users to enter several answers, that it may rise different potential errors. If I could rule them out, the program will be more robust."
   ]
  },
  {
   "cell_type": "markdown",
   "metadata": {},
   "source": [
    "9. **What would you do “next” to expand or augment the project**:\n",
    "\n",
    "    If continuing this project, I will go in-depth with different nutrition elements, e.g. fat, carbs, protein, and compare them with daily nutritional goals to see whether they exceed the limits or not. With the comparison, we would be able to have more details regarding every element and control the daily intake.\n",
    "    \n",
    "    With the skills I mentioned before, the code will be less in length. It will also enjoy robustness with less running time. That’s what I am still trying hard to improve in the upcoming future."
   ]
  },
  {
   "cell_type": "code",
   "execution_count": null,
   "metadata": {},
   "outputs": [],
   "source": []
  }
 ],
 "metadata": {
  "kernelspec": {
   "display_name": "Python 3",
   "language": "python",
   "name": "python3"
  },
  "language_info": {
   "codemirror_mode": {
    "name": "ipython",
    "version": 3
   },
   "file_extension": ".py",
   "mimetype": "text/x-python",
   "name": "python",
   "nbconvert_exporter": "python",
   "pygments_lexer": "ipython3",
   "version": "3.7.3"
  }
 },
 "nbformat": 4,
 "nbformat_minor": 2
}
