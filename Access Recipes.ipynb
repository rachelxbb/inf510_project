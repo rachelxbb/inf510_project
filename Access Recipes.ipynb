{
 "cells": [
  {
   "cell_type": "markdown",
   "metadata": {},
   "source": [
    "Access the recipes, and store in SQL."
   ]
  },
  {
   "cell_type": "code",
   "execution_count": 4,
   "metadata": {},
   "outputs": [],
   "source": [
    "import requests\n",
    "from bs4 import BeautifulSoup\n",
    "import sqlite3\n",
    "import json\n",
    "from pandas import Series,DataFrame\n",
    "import pandas as pd\n",
    "import sys\n",
    "import argparse\n",
    "import numpy as np"
   ]
  },
  {
   "cell_type": "code",
   "execution_count": null,
   "metadata": {},
   "outputs": [],
   "source": [
    "def access_recipes(*args, **kwargs):\n",
    "    "
   ]
  },
  {
   "cell_type": "code",
   "execution_count": null,
   "metadata": {},
   "outputs": [],
   "source": [
    "if __name__ == \"__main__\":\n",
    "    for argument in sys.argv:\n",
    "        print()"
   ]
  },
  {
   "cell_type": "code",
   "execution_count": 7,
   "metadata": {},
   "outputs": [],
   "source": [
    "url = 'https://www.bonappetit.com/recipes/slideshow/salad-dressings-summer'\n",
    "recipe = requests.get(url)\n",
    "soup = BeautifulSoup(recipe.content, 'lxml')"
   ]
  },
  {
   "cell_type": "code",
   "execution_count": 8,
   "metadata": {},
   "outputs": [],
   "source": [
    "#access the links for each recipe\n",
    "link_list = []\n",
    "\n",
    "main_table = soup.find_all('a', {\"aria-label\": \"View Recipe\"})\n",
    "\n",
    "for i in range(len(main_table)):\n",
    "    link_list.append(main_table[i].get('href'))"
   ]
  },
  {
   "cell_type": "code",
   "execution_count": 9,
   "metadata": {},
   "outputs": [
    {
     "data": {
      "text/plain": [
       "\"['3 tablespoons fresh lemon juice', '2 tablespoons olive oil', '½ teaspoon ground turmeric', '¼ teaspoon cayenne pepper', 'Kosher salt and freshly ground black pepper']\""
      ]
     },
     "execution_count": 9,
     "metadata": {},
     "output_type": "execute_result"
    }
   ],
   "source": [
    "#get each recipe from each webpage\n",
    "\n",
    "ingr1 = requests.get('https://www.bonappetit.com/recipe/turmeric-tahini-dressing')\n",
    "soup1 = BeautifulSoup(ingr1.content, 'lxml')\n",
    "\n",
    "ingr1 = [soup1.select(\"[data-reactid='165']\")[0].text, soup1.select(\"[data-reactid='167']\")[0].text, \n",
    "soup1.select(\"[data-reactid='169']\")[0].text, soup1.select(\"[data-reactid='171']\")[0].text,\n",
    "soup1.select(\"[data-reactid='173']\")[0].text]\n",
    "ingr1_l = str(ingr1)\n",
    "ingr1_l"
   ]
  },
  {
   "cell_type": "code",
   "execution_count": 10,
   "metadata": {},
   "outputs": [],
   "source": [
    "ingr2 = requests.get('https://www.bonappetit.com/recipe/lemon-anchovy-vinaigrette')\n",
    "soup2 = BeautifulSoup(ingr2.content, 'lxml')\n",
    "\n",
    "ingr2 = [soup2.select(\"[data-reactid='165']\")[0].text, soup2.select(\"[data-reactid='167']\")[0].text, \n",
    "soup2.select(\"[data-reactid='169']\")[0].text, soup2.select(\"[data-reactid='171']\")[0].text,\n",
    "soup2.select(\"[data-reactid='173']\")[0].text]\n",
    "ingr2_l = str(ingr2)"
   ]
  },
  {
   "cell_type": "code",
   "execution_count": 11,
   "metadata": {},
   "outputs": [],
   "source": [
    "ingr3 = requests.get('https://www.bonappetit.com/recipe/green-sauce-no-4')\n",
    "soup3 = BeautifulSoup(ingr3.content, 'lxml')\n",
    "\n",
    "ingr3 = [soup3.select(\"[data-reactid='163']\")[0].text, soup3.select(\"[data-reactid='164']\")[0].text, \n",
    "soup3.select(\"[data-reactid='166']\")[0].text, soup3.select(\"[data-reactid='168']\")[0].text, \n",
    "soup3.select(\"[data-reactid='170']\")[0].text, soup3.select(\"[data-reactid='172']\")[0].text,\n",
    "soup3.select(\"[data-reactid='174']\")[0].text, soup3.select(\"[data-reactid='176']\")[0].text,\n",
    "soup3.select(\"[data-reactid='178']\")[0].text, soup3.select(\"[data-reactid='180']\")[0].text,\n",
    "soup3.select(\"[data-reactid='182']\")[0].text, soup3.select(\"[data-reactid='184']\")[0].text]\n",
    "ingr3_l = str(ingr3)"
   ]
  },
  {
   "cell_type": "code",
   "execution_count": 12,
   "metadata": {},
   "outputs": [],
   "source": [
    "ingr4 = requests.get('https://www.bonappetit.com/recipe/creamy-lemon-mustard-vinaigrette')\n",
    "soup4 = BeautifulSoup(ingr4.content, 'lxml')\n",
    "\n",
    "ingr4 = [soup4.select(\"[data-reactid='163']\")[0].text, soup4.select(\"[data-reactid='164']\")[0].text, \n",
    "soup4.select(\"[data-reactid='166']\")[0].text, soup4.select(\"[data-reactid='168']\")[0].text, \n",
    "soup4.select(\"[data-reactid='170']\")[0].text, soup4.select(\"[data-reactid='172']\")[0].text]\n",
    "ingr4_l = str(ingr4)"
   ]
  },
  {
   "cell_type": "code",
   "execution_count": 13,
   "metadata": {},
   "outputs": [],
   "source": [
    "ingr5 = requests.get('https://www.bonappetit.com/recipe/gribiche-dressing')\n",
    "soup5 = BeautifulSoup(ingr5.content, 'lxml')\n",
    "\n",
    "ingr5 = [soup5.select(\"[data-reactid='163']\")[0].text, soup5.select(\"[data-reactid='164']\")[0].text, \n",
    "soup5.select(\"[data-reactid='166']\")[0].text, soup5.select(\"[data-reactid='168']\")[0].text, \n",
    "soup5.select(\"[data-reactid='170']\")[0].text, soup5.select(\"[data-reactid='172']\")[0].text,\n",
    "soup5.select(\"[data-reactid='174']\")[0].text, soup5.select(\"[data-reactid='176']\")[0].text]\n",
    "ingr5_l = str(ingr5)"
   ]
  },
  {
   "cell_type": "code",
   "execution_count": 14,
   "metadata": {},
   "outputs": [],
   "source": [
    "ingr6 = requests.get('https://www.bonappetit.com/recipe/peanut-dressing')\n",
    "soup6 = BeautifulSoup(ingr6.content, 'lxml')\n",
    "\n",
    "ingr6 = [soup6.select(\"[data-reactid='163']\")[0].text, soup6.select(\"[data-reactid='164']\")[0].text, \n",
    "soup6.select(\"[data-reactid='166']\")[0].text, soup6.select(\"[data-reactid='168']\")[0].text, \n",
    "soup6.select(\"[data-reactid='170']\")[0].text]\n",
    "ingr6_l = str(ingr6)"
   ]
  },
  {
   "cell_type": "code",
   "execution_count": 15,
   "metadata": {},
   "outputs": [],
   "source": [
    "ingr7 = requests.get('https://www.bonappetit.com/recipe/cherry-tomato-vinaigrette')\n",
    "soup7 = BeautifulSoup(ingr7.content, 'lxml')\n",
    "\n",
    "ingr7 = [soup7.select(\"[data-reactid='163']\")[0].text, soup7.select(\"[data-reactid='164']\")[0].text, \n",
    "soup7.select(\"[data-reactid='166']\")[0].text, soup7.select(\"[data-reactid='168']\")[0].text, \n",
    "soup7.select(\"[data-reactid='170']\")[0].text, soup7.select(\"[data-reactid='172']\")[0].text]\n",
    "ingr7_l = str(ingr7)"
   ]
  },
  {
   "cell_type": "code",
   "execution_count": 16,
   "metadata": {},
   "outputs": [],
   "source": [
    "ingr8 = requests.get('https://www.bonappetit.com/recipe/classic-french-dressing')\n",
    "soup8 = BeautifulSoup(ingr8.content, 'lxml')\n",
    "\n",
    "ingr8 = [soup8.select(\"[data-reactid='157']\")[0].text, soup8.select(\"[data-reactid='159']\")[0].text, \n",
    "soup8.select(\"[data-reactid='161']\")[0].text, soup8.select(\"[data-reactid='163']\")[0].text, \n",
    "soup8.select(\"[data-reactid='165']\")[0].text, soup8.select(\"[data-reactid='167']\")[0].text]\n",
    "ingr8_l = str(ingr8)"
   ]
  },
  {
   "cell_type": "code",
   "execution_count": 17,
   "metadata": {},
   "outputs": [],
   "source": [
    "ingr9 = requests.get('https://www.bonappetit.com/recipe/easy-homemade-caesar-dressing')\n",
    "soup9 = BeautifulSoup(ingr9.content, 'lxml')\n",
    "\n",
    "ingr9 = [soup9.select(\"[data-reactid='163']\")[0].text, soup9.select(\"[data-reactid='164']\")[0].text, \n",
    "soup9.select(\"[data-reactid='166']\")[0].text, soup9.select(\"[data-reactid='168']\")[0].text, \n",
    "soup9.select(\"[data-reactid='170']\")[0].text, soup9.select(\"[data-reactid='172']\")[0].text,\n",
    "soup9.select(\"[data-reactid='174']\")[0].text, soup9.select(\"[data-reactid='176']\")[0].text]\n",
    "ingr9_l = str(ingr9)"
   ]
  },
  {
   "cell_type": "code",
   "execution_count": 18,
   "metadata": {},
   "outputs": [],
   "source": [
    "ingr10 = requests.get('https://www.bonappetit.com/recipe/soy-sesame-dressing')\n",
    "soup10 = BeautifulSoup(ingr10.content, 'lxml')\n",
    "\n",
    "ingr10 = [soup10.select(\"[data-reactid='156']\")[0].text, soup10.select(\"[data-reactid='158']\")[0].text, \n",
    "soup10.select(\"[data-reactid='160']\")[0].text, soup10.select(\"[data-reactid='162']\")[0].text, \n",
    "soup10.select(\"[data-reactid='164']\")[0].text, soup10.select(\"[data-reactid='166']\")[0].text,\n",
    "soup10.select(\"[data-reactid='168']\")[0].text, soup10.select(\"[data-reactid='170']\")[0].text]\n",
    "ingr10_l = str(ingr10)"
   ]
  },
  {
   "cell_type": "code",
   "execution_count": 19,
   "metadata": {},
   "outputs": [],
   "source": [
    "ingr11 = requests.get('https://www.bonappetit.com/recipe/grilled-green-salad-coffee-vinaigrette')\n",
    "soup11 = BeautifulSoup(ingr11.content, 'lxml')\n",
    "\n",
    "ingr11 = [soup11.select(\"[data-reactid='163']\")[0].text, soup11.select(\"[data-reactid='164']\")[0].text, \n",
    "soup11.select(\"[data-reactid='166']\")[0].text, soup11.select(\"[data-reactid='168']\")[0].text, \n",
    "soup11.select(\"[data-reactid='170']\")[0].text, soup11.select(\"[data-reactid='172']\")[0].text,\n",
    "soup11.select(\"[data-reactid='174']\")[0].text, soup11.select(\"[data-reactid='176']\")[0].text,\n",
    "soup11.select(\"[data-reactid='178']\")[0].text, soup11.select(\"[data-reactid='180']\")[0].text,\n",
    "soup11.select(\"[data-reactid='182']\")[0].text, soup11.select(\"[data-reactid='184']\")[0].text,\n",
    "soup11.select(\"[data-reactid='186']\")[0].text, soup11.select(\"[data-reactid='188']\")[0].text,\n",
    "soup11.select(\"[data-reactid='190']\")[0].text]\n",
    "ingr11_l = str(ingr11)"
   ]
  },
  {
   "cell_type": "code",
   "execution_count": 20,
   "metadata": {},
   "outputs": [],
   "source": [
    "ingr12 = requests.get('https://www.bonappetit.com/recipe/buttermilk-ranch-dressing')\n",
    "soup12 = BeautifulSoup(ingr12.content, 'lxml')\n",
    "\n",
    "ingr12 = [soup12.select(\"[data-reactid='163']\")[0].text, soup12.select(\"[data-reactid='164']\")[0].text, \n",
    "soup12.select(\"[data-reactid='166']\")[0].text, soup12.select(\"[data-reactid='168']\")[0].text, \n",
    "soup12.select(\"[data-reactid='170']\")[0].text, soup12.select(\"[data-reactid='172']\")[0].text,\n",
    "soup12.select(\"[data-reactid='174']\")[0].text, soup12.select(\"[data-reactid='176']\")[0].text,\n",
    "soup12.select(\"[data-reactid='178']\")[0].text, soup12.select(\"[data-reactid='180']\")[0].text,\n",
    "soup12.select(\"[data-reactid='182']\")[0].text]\n",
    "ingr12_l = str(ingr12)"
   ]
  },
  {
   "cell_type": "code",
   "execution_count": 21,
   "metadata": {},
   "outputs": [],
   "source": [
    "ingr13 = requests.get('https://www.bonappetit.com/recipe/herby-lime-dressing')\n",
    "soup13 = BeautifulSoup(ingr13.content, 'lxml')\n",
    "\n",
    "ingr13 = [soup13.select(\"[data-reactid='163']\")[0].text, soup13.select(\"[data-reactid='164']\")[0].text, \n",
    "soup13.select(\"[data-reactid='166']\")[0].text, soup13.select(\"[data-reactid='168']\")[0].text, \n",
    "soup13.select(\"[data-reactid='170']\")[0].text, soup13.select(\"[data-reactid='172']\")[0].text,\n",
    "soup13.select(\"[data-reactid='174']\")[0].text, soup13.select(\"[data-reactid='176']\")[0].text,\n",
    "soup13.select(\"[data-reactid='178']\")[0].text]\n",
    "ingr13_l = str(ingr13)"
   ]
  },
  {
   "cell_type": "code",
   "execution_count": 22,
   "metadata": {},
   "outputs": [],
   "source": [
    "ingr14 = requests.get('https://www.bonappetit.com/recipe/sesame-miso-vinaigrette')\n",
    "soup14 = BeautifulSoup(ingr14.content, 'lxml')\n",
    "\n",
    "ingr14 = [soup14.select(\"[data-reactid='163']\")[0].text, soup14.select(\"[data-reactid='164']\")[0].text, \n",
    "soup14.select(\"[data-reactid='166']\")[0].text, soup14.select(\"[data-reactid='168']\")[0].text, \n",
    "soup14.select(\"[data-reactid='170']\")[0].text, soup14.select(\"[data-reactid='172']\")[0].text,\n",
    "soup14.select(\"[data-reactid='174']\")[0].text, soup14.select(\"[data-reactid='176']\")[0].text,\n",
    "soup14.select(\"[data-reactid='178']\")[0].text]\n",
    "ingr14_l = str(ingr14)"
   ]
  },
  {
   "cell_type": "code",
   "execution_count": 23,
   "metadata": {},
   "outputs": [],
   "source": [
    "ingr15 = requests.get('https://www.bonappetit.com/recipe/charred-corn-husk-oil-dressing')\n",
    "soup15 = BeautifulSoup(ingr15.content, 'lxml')\n",
    "\n",
    "ingr15 = [soup15.select(\"[data-reactid='161']\")[0].text, soup15.select(\"[data-reactid='163']\")[0].text, \n",
    "soup15.select(\"[data-reactid='165']\")[0].text, soup15.select(\"[data-reactid='167']\")[0].text, \n",
    "soup15.select(\"[data-reactid='169']\")[0].text, soup15.select(\"[data-reactid='171']\")[0].text,\n",
    "soup15.select(\"[data-reactid='173']\")[0].text]\n",
    "ingr15_l = str(ingr15)"
   ]
  },
  {
   "cell_type": "code",
   "execution_count": 24,
   "metadata": {},
   "outputs": [],
   "source": [
    "ingr16 = requests.get('https://www.bonappetit.com/recipe/simone-s-shallot-vinaigrette')\n",
    "soup16 = BeautifulSoup(ingr16.content, 'lxml')\n",
    "\n",
    "ingr16 = [soup16.select(\"[data-reactid='163']\")[0].text, soup16.select(\"[data-reactid='164']\")[0].text, \n",
    "soup16.select(\"[data-reactid='166']\")[0].text, soup16.select(\"[data-reactid='168']\")[0].text, \n",
    "soup16.select(\"[data-reactid='170']\")[0].text, soup16.select(\"[data-reactid='172']\")[0].text]\n",
    "ingr16_l = str(ingr16)"
   ]
  },
  {
   "cell_type": "code",
   "execution_count": 25,
   "metadata": {},
   "outputs": [],
   "source": [
    "ingr17 = requests.get('https://www.bonappetit.com/recipe/canal-house-green-goddess-dressing')\n",
    "soup17 = BeautifulSoup(ingr17.content, 'lxml')\n",
    "\n",
    "ingr17 = [soup17.select(\"[data-reactid='164']\")[0].text, soup17.select(\"[data-reactid='166']\")[0].text, \n",
    "soup17.select(\"[data-reactid='168']\")[0].text, soup17.select(\"[data-reactid='170']\")[0].text, \n",
    "soup17.select(\"[data-reactid='172']\")[0].text, soup17.select(\"[data-reactid='174']\")[0].text,\n",
    "soup17.select(\"[data-reactid='176']\")[0].text, soup17.select(\"[data-reactid='178']\")[0].text,\n",
    "soup17.select(\"[data-reactid='180']\")[0].text]\n",
    "ingr17_l = str(ingr17)"
   ]
  },
  {
   "cell_type": "code",
   "execution_count": 26,
   "metadata": {},
   "outputs": [],
   "source": [
    "ingr18 = requests.get('https://www.bonappetit.com/recipe/miso-turmeric-dressing')\n",
    "soup18 = BeautifulSoup(ingr18.content, 'lxml')\n",
    "\n",
    "ingr18 = [soup18.select(\"[data-reactid='163']\")[0].text, soup18.select(\"[data-reactid='164']\")[0].text, \n",
    "soup18.select(\"[data-reactid='166']\")[0].text, soup18.select(\"[data-reactid='168']\")[0].text, \n",
    "soup18.select(\"[data-reactid='170']\")[0].text, soup18.select(\"[data-reactid='172']\")[0].text,\n",
    "soup18.select(\"[data-reactid='174']\")[0].text, soup18.select(\"[data-reactid='176']\")[0].text]\n",
    "ingr18_l = str(ingr18)"
   ]
  },
  {
   "cell_type": "code",
   "execution_count": 27,
   "metadata": {},
   "outputs": [],
   "source": [
    "ingr19 = requests.get('https://www.bonappetit.com/recipe/simplest-asian-dressing')\n",
    "soup19 = BeautifulSoup(ingr19.content, 'lxml')\n",
    "\n",
    "ingr19 = [soup19.select(\"[data-reactid='164']\")[0].text, soup19.select(\"[data-reactid='166']\")[0].text, \n",
    "soup19.select(\"[data-reactid='168']\")[0].text, soup19.select(\"[data-reactid='170']\")[0].text, \n",
    "soup19.select(\"[data-reactid='172']\")[0].text, soup19.select(\"[data-reactid='174']\")[0].text]\n",
    "ingr19_l = str(ingr19)"
   ]
  },
  {
   "cell_type": "code",
   "execution_count": 28,
   "metadata": {},
   "outputs": [],
   "source": [
    "ingr20 = requests.get('https://www.bonappetit.com/recipe/herb-dressing')\n",
    "soup20 = BeautifulSoup(ingr20.content, 'lxml')\n",
    "\n",
    "ingr20 = [soup20.select(\"[data-reactid='161']\")[0].text, soup20.select(\"[data-reactid='163']\")[0].text, \n",
    "soup20.select(\"[data-reactid='165']\")[0].text, soup20.select(\"[data-reactid='167']\")[0].text, \n",
    "soup20.select(\"[data-reactid='169']\")[0].text, soup20.select(\"[data-reactid='171']\")[0].text,\n",
    "soup20.select(\"[data-reactid='173']\")[0].text]\n",
    "ingr20_l = str(ingr20)"
   ]
  },
  {
   "cell_type": "code",
   "execution_count": 29,
   "metadata": {},
   "outputs": [],
   "source": [
    "ingr21 = requests.get('https://www.bonappetit.com/recipe/fresh-chive-vinaigrette')\n",
    "soup21 = BeautifulSoup(ingr21.content, 'lxml')\n",
    "\n",
    "ingr21 = [soup21.select(\"[data-reactid='164']\")[0].text, soup21.select(\"[data-reactid='166']\")[0].text, \n",
    "soup21.select(\"[data-reactid='168']\")[0].text, soup21.select(\"[data-reactid='170']\")[0].text, \n",
    "soup21.select(\"[data-reactid='172']\")[0].text, soup21.select(\"[data-reactid='174']\")[0].text,\n",
    "soup21.select(\"[data-reactid='176']\")[0].text]\n",
    "ingr21_l = str(ingr21)"
   ]
  },
  {
   "cell_type": "code",
   "execution_count": 30,
   "metadata": {},
   "outputs": [],
   "source": [
    "ingr22 = requests.get('https://www.bonappetit.com/recipe/creamy-herb-dressing')\n",
    "soup22 = BeautifulSoup(ingr22.content, 'lxml')\n",
    "\n",
    "ingr22 = [soup22.select(\"[data-reactid='163']\")[0].text, soup22.select(\"[data-reactid='164']\")[0].text, \n",
    "soup22.select(\"[data-reactid='166']\")[0].text, soup22.select(\"[data-reactid='168']\")[0].text, \n",
    "soup22.select(\"[data-reactid='170']\")[0].text, soup22.select(\"[data-reactid='172']\")[0].text,\n",
    "soup22.select(\"[data-reactid='174']\")[0].text]\n",
    "ingr22_l = str(ingr22)"
   ]
  },
  {
   "cell_type": "code",
   "execution_count": 31,
   "metadata": {},
   "outputs": [],
   "source": [
    "ingr23 = requests.get('https://www.bonappetit.com/recipe/citrus-vinaigrette')\n",
    "soup23 = BeautifulSoup(ingr23.content, 'lxml')\n",
    "\n",
    "ingr23 = [soup23.select(\"[data-reactid='163']\")[0].text, soup23.select(\"[data-reactid='164']\")[0].text, \n",
    "soup23.select(\"[data-reactid='166']\")[0].text, soup23.select(\"[data-reactid='168']\")[0].text, \n",
    "soup23.select(\"[data-reactid='170']\")[0].text, soup23.select(\"[data-reactid='172']\")[0].text,\n",
    "soup23.select(\"[data-reactid='174']\")[0].text]\n",
    "ingr23_l = str(ingr23)"
   ]
  },
  {
   "cell_type": "code",
   "execution_count": 32,
   "metadata": {},
   "outputs": [],
   "source": [
    "ingr24 = requests.get('https://www.bonappetit.com/recipe/cashew-caesar-dressing')\n",
    "soup24 = BeautifulSoup(ingr24.content, 'lxml')\n",
    "\n",
    "ingr24 = [soup24.select(\"[data-reactid='163']\")[0].text, soup24.select(\"[data-reactid='164']\")[0].text, \n",
    "soup24.select(\"[data-reactid='166']\")[0].text, soup24.select(\"[data-reactid='168']\")[0].text, \n",
    "soup24.select(\"[data-reactid='170']\")[0].text, soup24.select(\"[data-reactid='172']\")[0].text,\n",
    "soup24.select(\"[data-reactid='174']\")[0].text, soup24.select(\"[data-reactid='176']\")[0].text]\n",
    "ingr24_l = str(ingr24)"
   ]
  },
  {
   "cell_type": "code",
   "execution_count": 33,
   "metadata": {},
   "outputs": [],
   "source": [
    "ingr25 = requests.get('https://www.bonappetit.com/recipe/buttermilk-green-goddess-dressing')\n",
    "soup25 = BeautifulSoup(ingr25.content, 'lxml')\n",
    "\n",
    "ingr25 = [soup25.select(\"[data-reactid='163']\")[0].text, soup25.select(\"[data-reactid='164']\")[0].text, \n",
    "soup25.select(\"[data-reactid='166']\")[0].text, soup25.select(\"[data-reactid='168']\")[0].text, \n",
    "soup25.select(\"[data-reactid='170']\")[0].text, soup25.select(\"[data-reactid='172']\")[0].text,\n",
    "soup25.select(\"[data-reactid='174']\")[0].text, soup25.select(\"[data-reactid='176']\")[0].text,\n",
    "soup25.select(\"[data-reactid='178']\")[0].text]\n",
    "ingr25_l = str(ingr25)"
   ]
  },
  {
   "cell_type": "code",
   "execution_count": 34,
   "metadata": {},
   "outputs": [],
   "source": [
    "ingr26 = requests.get('https://www.bonappetit.com/recipe/miso-carrot-and-sesame-dressing')\n",
    "soup26 = BeautifulSoup(ingr26.content, 'lxml')\n",
    "\n",
    "ingr26 = [soup26.select(\"[data-reactid='163']\")[0].text, soup26.select(\"[data-reactid='164']\")[0].text, \n",
    "soup26.select(\"[data-reactid='166']\")[0].text, soup26.select(\"[data-reactid='168']\")[0].text, \n",
    "soup26.select(\"[data-reactid='170']\")[0].text, soup26.select(\"[data-reactid='172']\")[0].text,\n",
    "soup26.select(\"[data-reactid='174']\")[0].text, soup26.select(\"[data-reactid='176']\")[0].text]\n",
    "ingr26_l = str(ingr26)"
   ]
  },
  {
   "cell_type": "code",
   "execution_count": 35,
   "metadata": {},
   "outputs": [],
   "source": [
    "ingr27 = requests.get('https://www.bonappetit.com/recipe/creamy-dijon-vinaigrette')\n",
    "soup27 = BeautifulSoup(ingr27.content, 'lxml')\n",
    "\n",
    "content = soup27.select(\"[data-reactid='163']\")[0].text\n",
    "temp_content = content.split(' ')\n",
    "temp_content\n",
    "temp_ingr = []\n",
    "remove_list = ['a', 'Pulse', 'and', 'With', 'motor', 'running', 'slowly', 'add', 'then',\n",
    "               'Season', 'to', 'taste', 'with', 'blender', 'in', 'to', 'combine.']\n",
    "for word in temp_content:\n",
    "    if word not in remove_list:\n",
    "        temp_ingr.append(word)\n",
    "    else:\n",
    "        continue\n",
    "\n",
    "ingr = ' '.join(temp_ingr)\n",
    "temp_ingr27 = ingr.split(', ')\n",
    "temp_ingr27.append(temp_ingr27[-1][:-35])\n",
    "temp_ingr27.append(temp_ingr27[-2][-33:-1])\n",
    "temp_ingr27.pop(-3)\n",
    "\n",
    "ingr27 = temp_ingr27\n",
    "ingr27_l = str(ingr27)"
   ]
  },
  {
   "cell_type": "code",
   "execution_count": 36,
   "metadata": {},
   "outputs": [],
   "source": [
    "ingredient_list = [ingr1_l, ingr2_l, ingr3_l, ingr4_l, ingr5_l, ingr6_l, ingr7_l, ingr8_l, ingr9_l, ingr10_l,\n",
    "                   ingr11_l, ingr12_l, ingr13_l, ingr14_l, ingr15_l, ingr16_l, ingr17_l, ingr18_l, ingr19_l,\n",
    "                   ingr20_l, ingr21_l, ingr22_l, ingr23_l, ingr24_l, ingr25_l, ingr26_l, ingr27_l]"
   ]
  },
  {
   "cell_type": "code",
   "execution_count": 37,
   "metadata": {
    "scrolled": true
   },
   "outputs": [],
   "source": [
    "recipes_list = ['Turmeric-Tahini Dressing', 'Lemon-Anchovy Vinaigrette', \n",
    "                'Green Sauce No.4', 'Creamy Lemon-Mustard Vinaigrette', \n",
    "                'Gribiche (Hard-Boiled Egg) Dressing', 'Peanut Dressing', \n",
    "                'Cherry Tomato Vinaigrette', 'Classic French Dressing', \n",
    "                'Easy Homemade Caesar Dressing', 'Soy-Seasame Dressing', \n",
    "                'Grilled Green Salad with Coffee Vinaigrette', 'Buttermilk Ranch Dressing', \n",
    "                'Herby Lime Dressing', 'Sesame-Miso Vinaigette', 'Charred Corn Husk Oil Dressing', \n",
    "                'Simone Shallot Vinaigrette', 'Canal House Green Goddess Dressing', \n",
    "                'Miso-Turmeric Dressing', 'Simplest Asian Dressing', 'Herb Dressing', \n",
    "                'Fresh Chive Vinaigrette', 'Creamy Herb Dressing', 'Citrus Vinaigrette', \n",
    "                'Cashew Caesar Dressing', 'Buttermilk Green Goddess Dressing', \n",
    "                'Miso, Carrot, and Sesame Dressing', 'Creamy Dijon Vinaigrette']"
   ]
  },
  {
   "cell_type": "code",
   "execution_count": 54,
   "metadata": {},
   "outputs": [
    {
     "data": {
      "text/plain": [
       "<sqlite3.Cursor at 0x12591a1f0>"
      ]
     },
     "execution_count": 54,
     "metadata": {},
     "output_type": "execute_result"
    }
   ],
   "source": [
    "#store recipes in SQL\n",
    "\n",
    "conn = sqlite3.connect('nutrition_track.db')\n",
    "cur = conn.cursor()\n",
    "cur.execute('DROP TABLE IF EXISTS Recipes')\n",
    "cur.execute('CREATE TABLE Recipes (id INTEGER, name TEXT, ingredient TEXT, link TEXT)')\n",
    "cur.execute('DROP TABLE IF EXISTS Nutrition')\n",
    "cur.execute('CREATE TABLE Nutrition (id INTEGER, calories REAL, recipe_id INTEGER)')"
   ]
  },
  {
   "cell_type": "code",
   "execution_count": 52,
   "metadata": {},
   "outputs": [
    {
     "ename": "OperationalError",
     "evalue": "database is locked",
     "output_type": "error",
     "traceback": [
      "\u001b[0;31m---------------------------------------------------------------------------\u001b[0m",
      "\u001b[0;31mOperationalError\u001b[0m                          Traceback (most recent call last)",
      "\u001b[0;32m<ipython-input-52-59dd2c2d3994>\u001b[0m in \u001b[0;36m<module>\u001b[0;34m\u001b[0m\n\u001b[1;32m      1\u001b[0m \u001b[0mconn\u001b[0m \u001b[0;34m=\u001b[0m \u001b[0msqlite3\u001b[0m\u001b[0;34m.\u001b[0m\u001b[0mconnect\u001b[0m\u001b[0;34m(\u001b[0m\u001b[0;34m'nutrition_track.db'\u001b[0m\u001b[0;34m)\u001b[0m\u001b[0;34m\u001b[0m\u001b[0;34m\u001b[0m\u001b[0m\n\u001b[1;32m      2\u001b[0m \u001b[0mcur\u001b[0m \u001b[0;34m=\u001b[0m \u001b[0mconn\u001b[0m\u001b[0;34m.\u001b[0m\u001b[0mcursor\u001b[0m\u001b[0;34m(\u001b[0m\u001b[0;34m)\u001b[0m\u001b[0;34m\u001b[0m\u001b[0;34m\u001b[0m\u001b[0m\n\u001b[0;32m----> 3\u001b[0;31m \u001b[0mcur\u001b[0m\u001b[0;34m.\u001b[0m\u001b[0mexecute\u001b[0m\u001b[0;34m(\u001b[0m\u001b[0;34m'DROP TABLE IF EXISTS Recipes'\u001b[0m\u001b[0;34m)\u001b[0m\u001b[0;34m\u001b[0m\u001b[0;34m\u001b[0m\u001b[0m\n\u001b[0m\u001b[1;32m      4\u001b[0m \u001b[0mcur\u001b[0m\u001b[0;34m.\u001b[0m\u001b[0mexecute\u001b[0m\u001b[0;34m(\u001b[0m\u001b[0;34m'CREATE TABLE Recipes (id INTEGER, name TEXT, ingredient TEXT, link TEXT)'\u001b[0m\u001b[0;34m)\u001b[0m\u001b[0;34m\u001b[0m\u001b[0;34m\u001b[0m\u001b[0m\n\u001b[1;32m      5\u001b[0m \u001b[0mcur\u001b[0m\u001b[0;34m.\u001b[0m\u001b[0mexecute\u001b[0m\u001b[0;34m(\u001b[0m\u001b[0;34m'DROP TABLE IF EXISTS Nutrition'\u001b[0m\u001b[0;34m)\u001b[0m\u001b[0;34m\u001b[0m\u001b[0;34m\u001b[0m\u001b[0m\n",
      "\u001b[0;31mOperationalError\u001b[0m: database is locked"
     ]
    }
   ],
   "source": [
    "conn = sqlite3.connect('nutrition_track.db')\n",
    "cur = conn.cursor()\n",
    "cur.execute('DROP TABLE IF EXISTS Recipes')\n",
    "cur.execute('CREATE TABLE Recipes (id INTEGER, name TEXT, ingredient TEXT, link TEXT)')\n",
    "cur.execute('DROP TABLE IF EXISTS Nutrition')\n",
    "cur.execute('CREATE TABLE Nutrition (id INTEGER, calories REAL, recipe_id INTEGER)')\n",
    "i_list = ingredient_list()\n",
    "recipes_list = ['Turmeric-Tahini Dressing', 'Lemon-Anchovy Vinaigrette', \n",
    "            'Green Sauce No.4', 'Creamy Lemon-Mustard Vinaigrette', \n",
    "            'Gribiche (Hard-Boiled Egg) Dressing', 'Peanut Dressing', \n",
    "            'Cherry Tomato Vinaigrette', 'Classic French Dressing', \n",
    "            'Easy Homemade Caesar Dressing', 'Soy-Seasame Dressing', \n",
    "            'Grilled Green Salad with Coffee Vinaigrette', 'Buttermilk Ranch Dressing', \n",
    "            'Herby Lime Dressing', 'Sesame-Miso Vinaigette', 'Charred Corn Husk Oil Dressing', \n",
    "            'Simone Shallot Vinaigrette', 'Canal House Green Goddess Dressing', \n",
    "            'Miso-Turmeric Dressing', 'Simplest Asian Dressing', 'Herb Dressing', \n",
    "            'Fresh Chive Vinaigrette', 'Creamy Herb Dressing', 'Citrus Vinaigrette', \n",
    "            'Cashew Caesar Dressing', 'Buttermilk Green Goddess Dressing', \n",
    "            'Miso, Carrot, and Sesame Dressing', 'Creamy Dijon Vinaigrette']\n",
    "link_list = recipes_scrap()\n",
    "already_placed = {}\n",
    "for i in range(len(recipes_list)):\n",
    "    tup = (i, recipes_list[i], i_list[i], link_list[i])\n",
    "    if tup not in already_placed:\n",
    "        recipe_result = cur.execute('INSERT INTO Recipes (id, name, ingredient, link) VALUES ( ?, ?, ?, ? )',\n",
    "           tup)"
   ]
  },
  {
   "cell_type": "code",
   "execution_count": 55,
   "metadata": {},
   "outputs": [],
   "source": [
    "for i in range(len(recipes_list)):\n",
    "    cur.execute('INSERT INTO Recipes (id, name, ingredient, link) VALUES ( ?, ?, ?, ? )',\n",
    "               (i, recipes_list[i], ingredient_list[i], link_list[i]))\n",
    "#     cur.execute('INSERT INTO Ingredients (id, ingredient, link, recipes_id) VALUES ( ?, ?, ?, ? )'\n",
    "#                (i, ingredient_list[i], link_list[i], i))"
   ]
  },
  {
   "cell_type": "code",
   "execution_count": 56,
   "metadata": {},
   "outputs": [
    {
     "data": {
      "text/plain": [
       "27"
      ]
     },
     "execution_count": 56,
     "metadata": {},
     "output_type": "execute_result"
    }
   ],
   "source": [
    "result = cur.execute('SELECT ingredient FROM Recipes')\n",
    "result = cur.fetchall()\n",
    "len(result)"
   ]
  },
  {
   "cell_type": "markdown",
   "metadata": {},
   "source": [
    "User interface to input recipe number."
   ]
  },
  {
   "cell_type": "code",
   "execution_count": 41,
   "metadata": {},
   "outputs": [
    {
     "name": "stdout",
     "output_type": "stream",
     "text": [
      "Here are our 27 creative salad dressing recipes:\n",
      "\n",
      " 1. Turmeric-Tahini Dressing\n",
      " 2. Lemon-Anchovy Vinaigrette\n",
      " 3. Green Sauce No.4\n",
      " 4. Creamy Lemon-Mustard Vinaigrette\n",
      " 5. Gribiche (Hard-Boiled Egg) Dressing\n",
      " 6. Peanut Dressing\n",
      " 7. Cherry Tomato Vinaigrette\n",
      " 8. Classic French Dressing\n",
      " 9. Easy Homemade Caesar Dressing\n",
      " 10. Soy-Seasame Dressing\n",
      " 11. Grilled Green Salad with Coffee Vinaigrette\n",
      " 11. Grilled Green Salad with Coffee Vinaigrette\n",
      " 12. Buttermilk Ranch Dressing\n",
      " 13. Herby Lime Dressing\n",
      " 14. Sesame-Miso Vinaigette\n",
      " 15. Charred Corn Husk Oil Dressing\n",
      " 16. Simone Shallot Vinaigrette\n",
      " 17. Canal House Green Goddess Dressing\n",
      " 18. Miso-Turmeric Dressing\n",
      " 19. Simplest Asian Dressing\n",
      " 20. Herb Dressing\n",
      " 21. Fresh Chive Vinaigrette\n",
      " 22. Creamy Herb Dressing\n",
      " 23. Citrus Vinaigrette\n",
      " 24. Cashew Caesar Dressing\n",
      " 25. Buttermilk Green Goddess Dressing\n",
      " 26. Miso, Carrot, and Sesame Dressing\n",
      " 27. Creamy Dijon Vinaigrette\n"
     ]
    }
   ],
   "source": [
    "#user interface\n",
    "recipe1 = '1. Turmeric-Tahini Dressing\\n'\n",
    "recipe2 = '2. Lemon-Anchovy Vinaigrette\\n'\n",
    "recipe3 = '3. Green Sauce No.4\\n'\n",
    "recipe4 = '4. Creamy Lemon-Mustard Vinaigrette\\n'\n",
    "recipe5 = '5. Gribiche (Hard-Boiled Egg) Dressing\\n'\n",
    "recipe6 = '6. Peanut Dressing\\n'\n",
    "recipe7 = '7. Cherry Tomato Vinaigrette\\n'\n",
    "recipe8 = '8. Classic French Dressing\\n'\n",
    "recipe9 = '9. Easy Homemade Caesar Dressing\\n'\n",
    "recipe10 = '10. Soy-Seasame Dressing\\n'\n",
    "recipe11 = '11. Grilled Green Salad with Coffee Vinaigrette\\n'\n",
    "recipe12 = '12. Buttermilk Ranch Dressing\\n'\n",
    "recipe13 = '13. Herby Lime Dressing\\n'\n",
    "recipe14 = '14. Sesame-Miso Vinaigette\\n'\n",
    "recipe15 = '15. Charred Corn Husk Oil Dressing\\n'\n",
    "recipe16 = '16. Simone Shallot Vinaigrette\\n'\n",
    "recipe17 = '17. Canal House Green Goddess Dressing\\n'\n",
    "recipe18 = '18. Miso-Turmeric Dressing\\n'\n",
    "recipe19 = '19. Simplest Asian Dressing\\n'\n",
    "recipe20 = '20. Herb Dressing\\n'\n",
    "recipe21 = '21. Fresh Chive Vinaigrette\\n'\n",
    "recipe22 = '22. Creamy Herb Dressing\\n'\n",
    "recipe23 = '23. Citrus Vinaigrette\\n'\n",
    "recipe24 = '24. Cashew Caesar Dressing\\n'\n",
    "recipe25 = '25. Buttermilk Green Goddess Dressing\\n'\n",
    "recipe26 = '26. Miso, Carrot, and Sesame Dressing\\n'\n",
    "recipe27 = '27. Creamy Dijon Vinaigrette'\n",
    "print('Here are our 27 creative salad dressing recipes:\\n\\n', recipe1, recipe2, recipe3, recipe4, recipe5, recipe6, recipe7, recipe8, recipe9, recipe10, recipe11,\n",
    "     recipe11, recipe12, recipe13, recipe14, recipe15, recipe16, recipe17, recipe18, recipe19, recipe20, recipe21, recipe22, recipe23, recipe24, recipe25,\n",
    "     recipe26, recipe27)"
   ]
  },
  {
   "cell_type": "code",
   "execution_count": 42,
   "metadata": {},
   "outputs": [
    {
     "name": "stdout",
     "output_type": "stream",
     "text": [
      "Please choose your recipe number: (once a time) 1\n",
      "\n",
      "Please enter your age: 10\n",
      "\n",
      "Please choose your gender (Female or Male): Female\n"
     ]
    }
   ],
   "source": [
    "#catch errors if entering invalid numbers.\n",
    "\n",
    "recipes_number = [n for n in range(1, 28)]\n",
    "recipes_input = input('Please choose your recipe number: (once a time) ')\n",
    "try:\n",
    "    int(recipes_input) in recipes_number\n",
    "except (TypeError, ValueError, IndexError):\n",
    "    print('Your chosen recipe does not exist.')\n",
    "    recipes_input = input('Please enter the recipe number again: ')\n",
    "\n",
    "else:\n",
    "    recipes_input = str(int(recipes_input) - 1)\n",
    "    age_input = int(input('\\nPlease enter your age: '))\n",
    "    gender_input = input('\\nPlease choose your gender (Female or Male): ')"
   ]
  },
  {
   "cell_type": "code",
   "execution_count": 43,
   "metadata": {},
   "outputs": [],
   "source": [
    "cur.execute(\"SELECT name, ingredient FROM Recipes WHERE id = \"+str(recipes_input)+\"\")\n",
    "result = cur.fetchall()\n",
    "recipe_to_nutri = {\n",
    "    'title': result[0][0],\n",
    "    'ingr': eval(result[0][1])\n",
    "}\n",
    "recipe = json.dumps(recipe_to_nutri)"
   ]
  },
  {
   "cell_type": "code",
   "execution_count": 57,
   "metadata": {},
   "outputs": [
    {
     "name": "stdout",
     "output_type": "stream",
     "text": [
      "{\n",
      "  \"uri\" : \"http://www.edamam.com/ontologies/edamam.owl#recipe_48b4e8bc2bb24f50962f90e0052821ce\",\n",
      "  \"yield\" : 2.0,\n",
      "  \"calories\" : 254,\n",
      "  \"totalWeight\" : 71.16285,\n",
      "  \"dietLabels\" : [ \"LOW_CARB\" ],\n",
      "  \"healthLabels\" : [ \"SUGAR_CONSCIOUS\", \"VEGAN\", \"VEGETARIAN\", \"PEANUT_FREE\", \"TREE_NUT_FREE\", \"ALCOHOL_FREE\", \"SULPHITE_FREE\" ],\n",
      "  \"cautions\" : [ \"SULFITES\" ],\n",
      "  \"totalNutrients\" : {\n",
      "    \"ENERC_KCAL\" : {\n",
      "      \"label\" : \"Energy\",\n",
      "      \"quantity\" : 254.56525350000004,\n",
      "      \"unit\" : \"kcal\"\n",
      "    },\n",
      "    \"FAT\" : {\n",
      "      \"label\" : \"Fat\",\n",
      "      \"quantity\" : 27.234203909999998,\n",
      "      \"unit\" : \"g\"\n",
      "    },\n",
      "    \"FASAT\" : {\n",
      "      \"label\" : \"Saturated\",\n",
      "      \"quantity\" : 3.7901628720000002,\n",
      "      \"unit\" : \"g\"\n",
      "    },\n",
      "    \"FATRN\" : {\n",
      "      \"label\" : \"Trans\",\n",
      "      \"quantity\" : 8.4E-4,\n",
      "      \"unit\" : \"g\"\n",
      "    },\n",
      "    \"FAMS\" : {\n",
      "      \"label\" : \"Monounsaturated\",\n",
      "      \"quantity\" : 19.7226729615,\n",
      "      \"unit\" : \"g\"\n",
      "    },\n",
      "    \"FAPU\" : {\n",
      "      \"label\" : \"Polyunsaturated\",\n",
      "      \"quantity\" : 2.9011592430000004,\n",
      "      \"unit\" : \"g\"\n",
      "    },\n",
      "    \"CHOCDF\" : {\n",
      "      \"label\" : \"Carbs\",\n",
      "      \"quantity\" : 4.296052575,\n",
      "      \"unit\" : \"g\"\n",
      "    },\n",
      "    \"FIBTG\" : {\n",
      "      \"label\" : \"Fiber\",\n",
      "      \"quantity\" : 0.64275105,\n",
      "      \"unit\" : \"g\"\n",
      "    },\n",
      "    \"SUGAR\" : {\n",
      "      \"label\" : \"Sugars\",\n",
      "      \"quantity\" : 1.1544422399999998,\n",
      "      \"unit\" : \"g\"\n",
      "    },\n",
      "    \"PROCNT\" : {\n",
      "      \"label\" : \"Protein\",\n",
      "      \"quantity\" : 0.36836011500000004,\n",
      "      \"unit\" : \"g\"\n",
      "    },\n",
      "    \"NA\" : {\n",
      "      \"label\" : \"Sodium\",\n",
      "      \"quantity\" : 1.54257,\n",
      "      \"unit\" : \"mg\"\n",
      "    },\n",
      "    \"CA\" : {\n",
      "      \"label\" : \"Calcium\",\n",
      "      \"quantity\" : 6.918925500000001,\n",
      "      \"unit\" : \"mg\"\n",
      "    },\n",
      "    \"MG\" : {\n",
      "      \"label\" : \"Magnesium\",\n",
      "      \"quantity\" : 6.687973500000001,\n",
      "      \"unit\" : \"mg\"\n",
      "    },\n",
      "    \"K\" : {\n",
      "      \"label\" : \"Potassium\",\n",
      "      \"quantity\" : 86.62177650000001,\n",
      "      \"unit\" : \"mg\"\n",
      "    },\n",
      "    \"FE\" : {\n",
      "      \"label\" : \"Iron\",\n",
      "      \"quantity\" : 1.065567735,\n",
      "      \"unit\" : \"mg\"\n",
      "    },\n",
      "    \"ZN\" : {\n",
      "      \"label\" : \"Zinc\",\n",
      "      \"quantity\" : 0.10219291500000001,\n",
      "      \"unit\" : \"mg\"\n",
      "    },\n",
      "    \"P\" : {\n",
      "      \"label\" : \"Phosphorus\",\n",
      "      \"quantity\" : 9.499803,\n",
      "      \"unit\" : \"mg\"\n",
      "    },\n",
      "    \"VITA_RAE\" : {\n",
      "      \"label\" : \"Vitamin A\",\n",
      "      \"quantity\" : 9.421969500000001,\n",
      "      \"unit\" : \"µg\"\n",
      "    },\n",
      "    \"VITC\" : {\n",
      "      \"label\" : \"Vitamin C\",\n",
      "      \"quantity\" : 16.608300000000003,\n",
      "      \"unit\" : \"mg\"\n",
      "    },\n",
      "    \"THIA\" : {\n",
      "      \"label\" : \"Thiamin (B1)\",\n",
      "      \"quantity\" : 0.012655877999999999,\n",
      "      \"unit\" : \"mg\"\n",
      "    },\n",
      "    \"RIBF\" : {\n",
      "      \"label\" : \"Riboflavin (B2)\",\n",
      "      \"quantity\" : 0.01306863,\n",
      "      \"unit\" : \"mg\"\n",
      "    },\n",
      "    \"NIA\" : {\n",
      "      \"label\" : \"Niacin (B3)\",\n",
      "      \"quantity\" : 0.1000573755,\n",
      "      \"unit\" : \"mg\"\n",
      "    },\n",
      "    \"VITB6A\" : {\n",
      "      \"label\" : \"Vitamin B6\",\n",
      "      \"quantity\" : 0.0325693935,\n",
      "      \"unit\" : \"mg\"\n",
      "    },\n",
      "    \"FOLDFE\" : {\n",
      "      \"label\" : \"Folate equivalent (total)\",\n",
      "      \"quantity\" : 9.2131845,\n",
      "      \"unit\" : \"µg\"\n",
      "    },\n",
      "    \"FOLFD\" : {\n",
      "      \"label\" : \"Folate (food)\",\n",
      "      \"quantity\" : 9.2131845,\n",
      "      \"unit\" : \"µg\"\n",
      "    },\n",
      "    \"TOCPHA\" : {\n",
      "      \"label\" : \"Vitamin E\",\n",
      "      \"quantity\" : 4.140398640000001,\n",
      "      \"unit\" : \"mg\"\n",
      "    },\n",
      "    \"VITK1\" : {\n",
      "      \"label\" : \"Vitamin K\",\n",
      "      \"quantity\" : 17.164785450000004,\n",
      "      \"unit\" : \"µg\"\n",
      "    },\n",
      "    \"WATER\" : {\n",
      "      \"label\" : \"Water\",\n",
      "      \"quantity\" : 39.02569611,\n",
      "      \"unit\" : \"g\"\n",
      "    }\n",
      "  },\n",
      "  \"totalDaily\" : {\n",
      "    \"ENERC_KCAL\" : {\n",
      "      \"label\" : \"Energy\",\n",
      "      \"quantity\" : 12.728262675000002,\n",
      "      \"unit\" : \"%\"\n",
      "    },\n",
      "    \"FAT\" : {\n",
      "      \"label\" : \"Fat\",\n",
      "      \"quantity\" : 41.89877524615384,\n",
      "      \"unit\" : \"%\"\n",
      "    },\n",
      "    \"FASAT\" : {\n",
      "      \"label\" : \"Saturated\",\n",
      "      \"quantity\" : 18.950814360000003,\n",
      "      \"unit\" : \"%\"\n",
      "    },\n",
      "    \"CHOCDF\" : {\n",
      "      \"label\" : \"Carbs\",\n",
      "      \"quantity\" : 1.432017525,\n",
      "      \"unit\" : \"%\"\n",
      "    },\n",
      "    \"FIBTG\" : {\n",
      "      \"label\" : \"Fiber\",\n",
      "      \"quantity\" : 2.5710042,\n",
      "      \"unit\" : \"%\"\n",
      "    },\n",
      "    \"PROCNT\" : {\n",
      "      \"label\" : \"Protein\",\n",
      "      \"quantity\" : 0.7367202300000001,\n",
      "      \"unit\" : \"%\"\n",
      "    },\n",
      "    \"NA\" : {\n",
      "      \"label\" : \"Sodium\",\n",
      "      \"quantity\" : 0.06427375,\n",
      "      \"unit\" : \"%\"\n",
      "    },\n",
      "    \"CA\" : {\n",
      "      \"label\" : \"Calcium\",\n",
      "      \"quantity\" : 0.6918925500000002,\n",
      "      \"unit\" : \"%\"\n",
      "    },\n",
      "    \"MG\" : {\n",
      "      \"label\" : \"Magnesium\",\n",
      "      \"quantity\" : 1.592374642857143,\n",
      "      \"unit\" : \"%\"\n",
      "    },\n",
      "    \"K\" : {\n",
      "      \"label\" : \"Potassium\",\n",
      "      \"quantity\" : 1.843016521276596,\n",
      "      \"unit\" : \"%\"\n",
      "    },\n",
      "    \"FE\" : {\n",
      "      \"label\" : \"Iron\",\n",
      "      \"quantity\" : 5.9198207499999995,\n",
      "      \"unit\" : \"%\"\n",
      "    },\n",
      "    \"ZN\" : {\n",
      "      \"label\" : \"Zinc\",\n",
      "      \"quantity\" : 0.9290265000000001,\n",
      "      \"unit\" : \"%\"\n",
      "    },\n",
      "    \"P\" : {\n",
      "      \"label\" : \"Phosphorus\",\n",
      "      \"quantity\" : 1.3571147142857143,\n",
      "      \"unit\" : \"%\"\n",
      "    },\n",
      "    \"VITA_RAE\" : {\n",
      "      \"label\" : \"Vitamin A\",\n",
      "      \"quantity\" : 1.0468855000000001,\n",
      "      \"unit\" : \"%\"\n",
      "    },\n",
      "    \"VITC\" : {\n",
      "      \"label\" : \"Vitamin C\",\n",
      "      \"quantity\" : 18.45366666666667,\n",
      "      \"unit\" : \"%\"\n",
      "    },\n",
      "    \"THIA\" : {\n",
      "      \"label\" : \"Thiamin (B1)\",\n",
      "      \"quantity\" : 1.0546564999999999,\n",
      "      \"unit\" : \"%\"\n",
      "    },\n",
      "    \"RIBF\" : {\n",
      "      \"label\" : \"Riboflavin (B2)\",\n",
      "      \"quantity\" : 1.0052792307692306,\n",
      "      \"unit\" : \"%\"\n",
      "    },\n",
      "    \"NIA\" : {\n",
      "      \"label\" : \"Niacin (B3)\",\n",
      "      \"quantity\" : 0.6253585968750001,\n",
      "      \"unit\" : \"%\"\n",
      "    },\n",
      "    \"VITB6A\" : {\n",
      "      \"label\" : \"Vitamin B6\",\n",
      "      \"quantity\" : 2.5053379615384617,\n",
      "      \"unit\" : \"%\"\n",
      "    },\n",
      "    \"FOLDFE\" : {\n",
      "      \"label\" : \"Folate equivalent (total)\",\n",
      "      \"quantity\" : 2.303296125,\n",
      "      \"unit\" : \"%\"\n",
      "    },\n",
      "    \"TOCPHA\" : {\n",
      "      \"label\" : \"Vitamin E\",\n",
      "      \"quantity\" : 27.602657600000004,\n",
      "      \"unit\" : \"%\"\n",
      "    },\n",
      "    \"VITK1\" : {\n",
      "      \"label\" : \"Vitamin K\",\n",
      "      \"quantity\" : 14.303987875000002,\n",
      "      \"unit\" : \"%\"\n",
      "    }\n",
      "  },\n",
      "  \"totalNutrientsKCal\" : {\n",
      "    \"ENERC_KCAL\" : {\n",
      "      \"label\" : \"Energy\",\n",
      "      \"quantity\" : 255,\n",
      "      \"unit\" : \"kcal\"\n",
      "    },\n",
      "    \"PROCNT_KCAL\" : {\n",
      "      \"label\" : \"Calories from protein\",\n",
      "      \"quantity\" : 1,\n",
      "      \"unit\" : \"kcal\"\n",
      "    },\n",
      "    \"FAT_KCAL\" : {\n",
      "      \"label\" : \"Calories from fat\",\n",
      "      \"quantity\" : 237,\n",
      "      \"unit\" : \"kcal\"\n",
      "    },\n",
      "    \"CHOCDF_KCAL\" : {\n",
      "      \"label\" : \"Calories from carbohydrates\",\n",
      "      \"quantity\" : 17,\n",
      "      \"unit\" : \"kcal\"\n",
      "    }\n",
      "  }\n",
      "}\n"
     ]
    }
   ],
   "source": [
    "url = \"https://api.edamam.com/api/nutrition-details?app_id=eab0e0ca&app_key=635c4a04b50256aaebfe2af8ab3d797b\"\n",
    "headers = {'content-type': 'application/json'}\n",
    "r = requests.post(url, headers = headers, data = recipe)\n",
    "print(r.text)"
   ]
  },
  {
   "cell_type": "code",
   "execution_count": 58,
   "metadata": {},
   "outputs": [
    {
     "data": {
      "text/plain": [
       "127.0"
      ]
     },
     "execution_count": 58,
     "metadata": {},
     "output_type": "execute_result"
    }
   ],
   "source": [
    "#calculate calories per yield.\n",
    "stat = r.text\n",
    "ser = r.text.split('  ')[2].strip(',\\n')\n",
    "cal = r.text.split('  ')[3].strip(',\\n')\n",
    "ind_ser = ser.find(':')+2\n",
    "ind_cal = cal.find(':')+2\n",
    "ser_number = eval(ser[ind_ser:])\n",
    "cal_number = eval(cal[ind_cal:])\n",
    "cal_per_ser = cal_number /ser_number\n",
    "cal_per_ser"
   ]
  },
  {
   "cell_type": "markdown",
   "metadata": {},
   "source": [
    "Access the Health Goal, and store in Pandas."
   ]
  },
  {
   "cell_type": "code",
   "execution_count": 46,
   "metadata": {},
   "outputs": [],
   "source": [
    "hg = requests.get('https://health.gov/dietaryguidelines/2015/guidelines/appendix-7/')\n",
    "soup_hg = BeautifulSoup(hg.content, 'lxml')"
   ]
  },
  {
   "cell_type": "code",
   "execution_count": 47,
   "metadata": {
    "scrolled": true
   },
   "outputs": [
    {
     "data": {
      "text/plain": [
       "{'Child 1-3': ['1,000'],\n",
       " 'Female 4-8': ['1,200'],\n",
       " 'Male 4-8': ['1,400,1,600'],\n",
       " 'Female 9-13': ['1,600'],\n",
       " 'Male 9-13': ['1,800'],\n",
       " 'Female 14-18': ['1,800'],\n",
       " 'Male 14-18': ['2,200,2,800,3,200'],\n",
       " 'Female 19-30': ['2,000'],\n",
       " 'Male 19-30': ['2,400,2,600,3,000'],\n",
       " 'Female 31-50': ['1,800'],\n",
       " 'Male 31-50': ['2,200'],\n",
       " 'Female 51+': ['1,600'],\n",
       " 'Male 51+': ['2,000']}"
      ]
     },
     "execution_count": 47,
     "metadata": {},
     "output_type": "execute_result"
    }
   ],
   "source": [
    "soup_title = soup_hg.find('thead').find_all('th')\n",
    "soup_cal = soup_hg.find('tbody').find('tr').find_all('th')\n",
    "key_list = []\n",
    "value_list = []\n",
    "for n in range(len(soup_title)):\n",
    "    key_list.append(soup_title[n].text)\n",
    "    s = soup_cal[n].text.strip(',').split(' ')\n",
    "    value_list.append(s)\n",
    "key_list = key_list[1:]\n",
    "value_list = value_list[1:]\n",
    "health_goal = dict(zip(key_list, value_list))\n",
    "health_goal"
   ]
  },
  {
   "cell_type": "code",
   "execution_count": 48,
   "metadata": {
    "scrolled": true
   },
   "outputs": [
    {
     "data": {
      "text/html": [
       "<div>\n",
       "<style scoped>\n",
       "    .dataframe tbody tr th:only-of-type {\n",
       "        vertical-align: middle;\n",
       "    }\n",
       "\n",
       "    .dataframe tbody tr th {\n",
       "        vertical-align: top;\n",
       "    }\n",
       "\n",
       "    .dataframe thead th {\n",
       "        text-align: right;\n",
       "    }\n",
       "</style>\n",
       "<table border=\"1\" class=\"dataframe\">\n",
       "  <thead>\n",
       "    <tr style=\"text-align: right;\">\n",
       "      <th></th>\n",
       "      <th>Child 1-3</th>\n",
       "      <th>Female 4-8</th>\n",
       "      <th>Male 4-8</th>\n",
       "      <th>Female 9-13</th>\n",
       "      <th>Male 9-13</th>\n",
       "      <th>Female 14-18</th>\n",
       "      <th>Male 14-18</th>\n",
       "      <th>Female 19-30</th>\n",
       "      <th>Male 19-30</th>\n",
       "      <th>Female 31-50</th>\n",
       "      <th>Male 31-50</th>\n",
       "      <th>Female 51+</th>\n",
       "      <th>Male 51+</th>\n",
       "    </tr>\n",
       "  </thead>\n",
       "  <tbody>\n",
       "    <tr>\n",
       "      <th>Calories Goal</th>\n",
       "      <td>1,000</td>\n",
       "      <td>1,200</td>\n",
       "      <td>1,400,1,600</td>\n",
       "      <td>1,600</td>\n",
       "      <td>1,800</td>\n",
       "      <td>1,800</td>\n",
       "      <td>2,200,2,800,3,200</td>\n",
       "      <td>2,000</td>\n",
       "      <td>2,400,2,600,3,000</td>\n",
       "      <td>1,800</td>\n",
       "      <td>2,200</td>\n",
       "      <td>1,600</td>\n",
       "      <td>2,000</td>\n",
       "    </tr>\n",
       "  </tbody>\n",
       "</table>\n",
       "</div>"
      ],
      "text/plain": [
       "              Child 1-3 Female 4-8     Male 4-8 Female 9-13 Male 9-13  \\\n",
       "Calories Goal     1,000      1,200  1,400,1,600       1,600     1,800   \n",
       "\n",
       "              Female 14-18         Male 14-18 Female 19-30         Male 19-30  \\\n",
       "Calories Goal        1,800  2,200,2,800,3,200        2,000  2,400,2,600,3,000   \n",
       "\n",
       "              Female 31-50 Male 31-50 Female 51+ Male 51+  \n",
       "Calories Goal        1,800      2,200      1,600    2,000  "
      ]
     },
     "execution_count": 48,
     "metadata": {},
     "output_type": "execute_result"
    }
   ],
   "source": [
    "df = DataFrame(health_goal)\n",
    "df.index = ['Calories Goal']\n",
    "df"
   ]
  },
  {
   "cell_type": "markdown",
   "metadata": {},
   "source": [
    "Calculate percentage of daily calories given a recipe."
   ]
  },
  {
   "cell_type": "code",
   "execution_count": 49,
   "metadata": {},
   "outputs": [],
   "source": [
    "#use the user inputs to access the table.\n",
    "age_range = ' '\n",
    "if 1 <= age_input <= 3:\n",
    "    cal_standard = df['Child 1-3'][0]\n",
    "elif 4 < age_input <= 8:\n",
    "    age_range = '4-8'\n",
    "elif 8 < age_input <= 13:\n",
    "    age_range = '9-13'\n",
    "elif 14 < age_input <= 18:\n",
    "    age_range = '15-18'\n",
    "elif 18 < age_input <= 30:\n",
    "    age_range = '19-30'\n",
    "elif 30 < age_input <= 50:\n",
    "    age_range = '31-50'\n",
    "elif 50 < age_input:\n",
    "    age_range = '51+'\n",
    "\n",
    "cal_standard = df[gender_input + ' ' + age_range][0]"
   ]
  },
  {
   "cell_type": "code",
   "execution_count": 50,
   "metadata": {},
   "outputs": [],
   "source": [
    "t = list(cal_standard)\n",
    "number_list = [ ]\n",
    "\n",
    "for i in range(len(t)):\n",
    "    if len(t) > 5 and (i == 5 or i == 11):\n",
    "        t[i] = \" \"\n",
    "    elif len(t) <= 5:\n",
    "        cal_goals = int(cal_standard.replace(',', ''))\n",
    "    else:\n",
    "        cal1 = ''.join(t).strip(',').split(' ')\n",
    "        if len(cal1) > 1:\n",
    "            for number in cal1:\n",
    "                number_list.append(int(number.replace(',', '')))\n",
    "                cal_goals = int(np.mean(number_list))"
   ]
  },
  {
   "cell_type": "code",
   "execution_count": 51,
   "metadata": {},
   "outputs": [
    {
     "data": {
      "text/plain": [
       "0.079375"
      ]
     },
     "execution_count": 51,
     "metadata": {},
     "output_type": "execute_result"
    }
   ],
   "source": [
    "cal_to_goal = cal_per_ser / cal_goals\n",
    "cal_to_goal"
   ]
  },
  {
   "cell_type": "code",
   "execution_count": null,
   "metadata": {},
   "outputs": [],
   "source": []
  }
 ],
 "metadata": {
  "kernelspec": {
   "display_name": "Python 3",
   "language": "python",
   "name": "python3"
  },
  "language_info": {
   "codemirror_mode": {
    "name": "ipython",
    "version": 3
   },
   "file_extension": ".py",
   "mimetype": "text/x-python",
   "name": "python",
   "nbconvert_exporter": "python",
   "pygments_lexer": "ipython3",
   "version": "3.7.3"
  }
 },
 "nbformat": 4,
 "nbformat_minor": 2
}
